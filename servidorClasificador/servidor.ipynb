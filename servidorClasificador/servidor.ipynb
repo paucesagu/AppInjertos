{
 "cells": [
  {
   "cell_type": "code",
   "execution_count": 33,
   "id": "4a2eee88",
   "metadata": {},
   "outputs": [],
   "source": [
    "# Importamos lo 3 métodos que utilizaremos\n",
    "from flask import Flask, request, jsonify\n",
    "from flask import *\n",
    "from waitress import serve\n",
    "import pandas as pd\n",
    "import numpy as np\n",
    "import statistics\n",
    "from copy import copy\n",
    "import csv as csv\n",
    "\n",
    "# Clasificación\n",
    "from sklearn.linear_model import LogisticRegression, SGDClassifier\n",
    "from sklearn import tree\n",
    "from xgboost import XGBClassifier\n",
    "from sklearn.neighbors import KNeighborsClassifier\n",
    "from sklearn.svm import SVC, LinearSVC, NuSVC\n",
    "from sklearn.tree import DecisionTreeClassifier\n",
    "from sklearn.ensemble import RandomForestClassifier, AdaBoostClassifier, GradientBoostingClassifier\n",
    "from sklearn.naive_bayes import GaussianNB\n",
    "from sklearn.discriminant_analysis import LinearDiscriminantAnalysis\n",
    "from sklearn.discriminant_analysis import QuadraticDiscriminantAnalysis\n",
    "from sklearn.naive_bayes import BernoulliNB\n",
    "\n",
    "#exportar modelo\n",
    "import joblib\n",
    "\n",
    "#TPOT\n",
    "#from tpot import TPOTClassifier\n",
    "from tpot.builtins import StackingEstimator, ZeroCount\n",
    "from tpot.export_utils import set_param_recursive\n",
    "\n",
    "# Evaluación\n",
    "from sklearn import metrics\n",
    "from sklearn.metrics import classification_report,precision_recall_fscore_support, f1_score, roc_curve, roc_auc_score,auc, accuracy_score, confusion_matrix\n",
    "from sklearn.model_selection import train_test_split, cross_val_predict, cross_val_score, LeaveOneOut\n",
    "\n",
    "#preprocesamiento\n",
    "from sklearn.preprocessing import FunctionTransformer, Normalizer, RobustScaler, StandardScaler\n",
    "\n",
    "# selección de atributos\n",
    "from sklearn.feature_selection import RFE\n",
    "from sklearn.feature_selection import f_classif, mutual_info_classif, chi2\n",
    "from sklearn.feature_selection import SelectPercentile, SelectKBest, SelectFromModel, VarianceThreshold\n",
    "\n",
    "#pipeline\n",
    "from sklearn.pipeline import Pipeline, make_pipeline, make_union\n",
    "\n",
    "\n",
    "#warnings\n",
    "import warnings\n",
    "warnings.filterwarnings('ignore')\n",
    "\n",
    "#para reentrenar\n",
    "import time\n",
    "import mysql.connector"
   ]
  },
  {
   "cell_type": "code",
   "execution_count": 23,
   "id": "99a4145b",
   "metadata": {},
   "outputs": [
    {
     "name": "stdout",
     "output_type": "stream",
     "text": [
      "Name: scikit-learn\n",
      "Version: 0.24.1\n",
      "Summary: A set of python modules for machine learning and data mining\n",
      "Home-page: http://scikit-learn.org\n",
      "Author: None\n",
      "Author-email: None\n",
      "License: new BSD\n",
      "Location: c:\\users\\usuario\\appdata\\roaming\\python\\python38\\site-packages\n",
      "Requires: numpy, threadpoolctl, joblib, scipy\n",
      "Required-by: TPOT, shap, sentence-transformers, lightgbm, keybert\n"
     ]
    }
   ],
   "source": []
  },
  {
   "cell_type": "code",
   "execution_count": 24,
   "id": "9e2ced17",
   "metadata": {},
   "outputs": [
    {
     "name": "stdout",
     "output_type": "stream",
     "text": [
      "Name: numpy\n",
      "Version: 1.20.1\n",
      "Summary: NumPy is the fundamental package for array computing with Python.\n",
      "Home-page: https://www.numpy.org\n",
      "Author: Travis E. Oliphant et al.\n",
      "Author-email: None\n",
      "License: BSD\n",
      "Location: c:\\users\\usuario\\appdata\\roaming\\python\\python38\\site-packages\n",
      "Requires: \n",
      "Required-by: scipy, scikit-learn, xgboost, transformers, TPOT, torchvision, tifffile, thinc, tables, statsmodels, spacy, shap, sentence-transformers, seaborn, scikit-image, PyWavelets, pyerfa, patsy, pandas, numexpr, numba, mkl-random, mkl-fft, matplotlib, lightgbm, keybert, joypy, imageio, imagecodecs, h5py, deap, clustergram, Bottleneck, bokeh, blis, bkcharts, astropy\n"
     ]
    }
   ],
   "source": []
  },
  {
   "cell_type": "code",
   "execution_count": 7,
   "id": "ef12a3ce",
   "metadata": {},
   "outputs": [
    {
     "name": "stdout",
     "output_type": "stream",
     "text": [
      "Name: Flask\n",
      "Version: 1.1.2\n",
      "Summary: A simple framework for building complex web applications.\n",
      "Home-page: https://palletsprojects.com/p/flask/\n",
      "Author: Armin Ronacher\n",
      "Author-email: armin.ronacher@active-4.com\n",
      "License: BSD-3-Clause\n",
      "Location: c:\\users\\usuario\\anaconda3\\lib\\site-packages\n",
      "Requires: itsdangerous, Jinja2, Werkzeug, click\n",
      "Required-by: \n"
     ]
    }
   ],
   "source": []
  },
  {
   "cell_type": "code",
   "execution_count": 35,
   "id": "5d9c3c1d",
   "metadata": {},
   "outputs": [
    {
     "name": "stdout",
     "output_type": "stream",
     "text": [
      "Name: joblib\n",
      "Version: 1.0.1\n",
      "Summary: Lightweight pipelining with Python functions\n",
      "Home-page: https://joblib.readthedocs.io\n",
      "Author: Gael Varoquaux\n",
      "Author-email: gael.varoquaux@normalesup.org\n",
      "License: BSD\n",
      "Location: c:\\users\\usuario\\anaconda3\\lib\\site-packages\n",
      "Requires: \n",
      "Required-by: scikit-learn, TPOT, sacremoses, nltk\n"
     ]
    }
   ],
   "source": []
  },
  {
   "cell_type": "code",
   "execution_count": 20,
   "id": "f4fb6636",
   "metadata": {},
   "outputs": [
    {
     "name": "stdout",
     "output_type": "stream",
     "text": [
      "Collecting flask==1.1.2\n",
      "  Using cached Flask-1.1.2-py2.py3-none-any.whl (94 kB)\n",
      "Requirement already satisfied: Jinja2>=2.10.1 in c:\\users\\usuario\\appdata\\roaming\\python\\python38\\site-packages (from flask==1.1.2) (2.11.1)"
     ]
    },
    {
     "name": "stderr",
     "output_type": "stream",
     "text": [
      "  WARNING: The script flask.exe is installed in 'C:\\Users\\usuario\\AppData\\Roaming\\Python\\Python38\\Scripts' which is not on PATH.\n",
      "  Consider adding this directory to PATH or, if you prefer to suppress this warning, use --no-warn-script-location.\n"
     ]
    },
    {
     "name": "stdout",
     "output_type": "stream",
     "text": [
      "\n",
      "Requirement already satisfied: click>=5.1 in c:\\users\\usuario\\appdata\\roaming\\python\\python38\\site-packages (from flask==1.1.2) (8.1.3)\n",
      "Requirement already satisfied: itsdangerous>=0.24 in c:\\users\\usuario\\appdata\\roaming\\python\\python38\\site-packages (from flask==1.1.2) (2.1.2)\n",
      "Requirement already satisfied: Werkzeug>=0.15 in c:\\users\\usuario\\appdata\\roaming\\python\\python38\\site-packages (from flask==1.1.2) (2.2.1)\n",
      "Requirement already satisfied: colorama in c:\\users\\usuario\\anaconda3\\lib\\site-packages (from click>=5.1->flask==1.1.2) (0.4.4)\n",
      "Requirement already satisfied: MarkupSafe>=0.23 in c:\\users\\usuario\\appdata\\roaming\\python\\python38\\site-packages (from Jinja2>=2.10.1->flask==1.1.2) (2.1.1)\n",
      "Installing collected packages: flask\n",
      "  Attempting uninstall: flask\n",
      "    Found existing installation: Flask 2.1.0\n",
      "    Uninstalling Flask-2.1.0:\n",
      "      Successfully uninstalled Flask-2.1.0\n",
      "Successfully installed flask-1.1.2\n"
     ]
    }
   ],
   "source": []
  },
  {
   "cell_type": "code",
   "execution_count": 32,
   "id": "0c3654d3",
   "metadata": {},
   "outputs": [
    {
     "name": "stdout",
     "output_type": "stream",
     "text": [
      "Collecting scipy==1.5.1\n",
      "  Downloading scipy-1.5.1-cp38-cp38-win_amd64.whl (31.4 MB)\n",
      "Requirement already satisfied: numpy>=1.14.5 in c:\\users\\usuario\\appdata\\roaming\\python\\python38\\site-packages (from scipy==1.5.1) (1.20.1)\n",
      "Installing collected packages: scipy\n",
      "  Attempting uninstall: scipy\n",
      "    Found existing installation: scipy 1.5.0\n",
      "    Uninstalling scipy-1.5.0:\n",
      "      Successfully uninstalled scipy-1.5.0\n",
      "Successfully installed scipy-1.5.1\n"
     ]
    }
   ],
   "source": []
  },
  {
   "cell_type": "code",
   "execution_count": 5,
   "id": "7a0c3c19",
   "metadata": {},
   "outputs": [
    {
     "name": "stdout",
     "output_type": "stream",
     "text": [
      "Requirement already satisfied: waitress in c:\\users\\usuario\\anaconda3\\lib\\site-packages (2.1.2)\n"
     ]
    }
   ],
   "source": []
  },
  {
   "cell_type": "code",
   "execution_count": 11,
   "id": "c31a2d17",
   "metadata": {},
   "outputs": [],
   "source": [
    "datos =  pd.read_csv('datos_one_hot.csv')\n",
    "datos = datos.drop(['Unnamed: 0'], axis=1)"
   ]
  },
  {
   "cell_type": "code",
   "execution_count": 12,
   "id": "c56cf5ad",
   "metadata": {},
   "outputs": [],
   "source": [
    "#nos conectamos a la base de datos mysql y añadimos la fila cuyo indice sea mayor al dado por parámetro para no añadir todas las de la bd y evitar que esten repetidas\n",
    "def añadirInstancias(indice):\n",
    "    \n",
    "    conexion1=mysql.connector.connect(host='127.0.0.1',\n",
    "        user='root',\n",
    "        password='password',\n",
    "        database='injertosdb',\n",
    "        port=3306) \n",
    "    ultIndice = 0\n",
    "    cursor1=conexion1.cursor()\n",
    "    sentencia = \"SELECT id, edad, sexo, imc, hta, dm, dlp, apm, apq, got, gpt, ggt, na,bbt, acvhc, acvhbc, dosisna, aminas, validez, ecografia_1, ecografia_2, ecografia_3 FROM injertos i LEFT OUTER JOIN valoraciones v ON  v.id_injerto = i.id where id>\" + str(indice)\n",
    "    #tenemos que guardar por que indice nos hemos quedado\n",
    "    cursor1.execute(sentencia)\n",
    "    for fila in cursor1:\n",
    "        ultIndice = fila[0]\n",
    "        datos.loc[len(datos)] = list(fila)[1:]\n",
    "    conexion1.close()\n",
    "    datos.to_csv('datos_one_hot.csv') #actualizamos el dataset con las nuevas instancias\n",
    "    return (ultIndice, len(datos))\n"
   ]
  },
  {
   "cell_type": "code",
   "execution_count": 34,
   "id": "755d66ea",
   "metadata": {
    "scrolled": false
   },
   "outputs": [
    {
     "name": "stderr",
     "output_type": "stream",
     "text": [
      "ERROR:__main__:Exception on /predict [GET]\n",
      "Traceback (most recent call last):\n",
      "  File \"C:\\Users\\usuario\\AppData\\Roaming\\Python\\Python38\\site-packages\\flask\\app.py\", line 2077, in wsgi_app\n",
      "  File \"C:\\Users\\usuario\\AppData\\Roaming\\Python\\Python38\\site-packages\\flask\\app.py\", line 1525, in full_dispatch_request\n",
      "    :meth:`template_global` decorator.\n",
      "  File \"C:\\Users\\usuario\\AppData\\Roaming\\Python\\Python38\\site-packages\\flask\\app.py\", line 1523, in full_dispatch_request\n",
      "    def add_template_global(self, f, name=None):\n",
      "  File \"C:\\Users\\usuario\\AppData\\Roaming\\Python\\Python38\\site-packages\\flask\\app.py\", line 1509, in dispatch_request\n",
      "  File \"<ipython-input-34-ecbf0810ef3c>\", line 50, in predict\n",
      "    label_index = MODEL.predict(features)\n",
      "  File \"C:\\Users\\usuario\\anaconda3\\lib\\site-packages\\sklearn\\pipeline.py\", line 457, in predict\n",
      "    Xt = transform.transform(Xt)\n",
      "  File \"C:\\Users\\usuario\\anaconda3\\lib\\site-packages\\sklearn\\pipeline.py\", line 1204, in transform\n",
      "    Xs = Parallel(n_jobs=self.n_jobs)(\n",
      "  File \"C:\\Users\\usuario\\anaconda3\\lib\\site-packages\\joblib\\parallel.py\", line 1041, in __call__\n",
      "    if self.dispatch_one_batch(iterator):\n",
      "  File \"C:\\Users\\usuario\\anaconda3\\lib\\site-packages\\joblib\\parallel.py\", line 859, in dispatch_one_batch\n",
      "    self._dispatch(tasks)\n",
      "  File \"C:\\Users\\usuario\\anaconda3\\lib\\site-packages\\joblib\\parallel.py\", line 777, in _dispatch\n",
      "    job = self._backend.apply_async(batch, callback=cb)\n",
      "  File \"C:\\Users\\usuario\\anaconda3\\lib\\site-packages\\joblib\\_parallel_backends.py\", line 208, in apply_async\n",
      "    result = ImmediateResult(func)\n",
      "  File \"C:\\Users\\usuario\\anaconda3\\lib\\site-packages\\joblib\\_parallel_backends.py\", line 572, in __init__\n",
      "    self.results = batch()\n",
      "  File \"C:\\Users\\usuario\\anaconda3\\lib\\site-packages\\joblib\\parallel.py\", line 262, in __call__\n",
      "    return [func(*args, **kwargs)\n",
      "  File \"C:\\Users\\usuario\\anaconda3\\lib\\site-packages\\joblib\\parallel.py\", line 262, in <listcomp>\n",
      "    return [func(*args, **kwargs)\n",
      "  File \"C:\\Users\\usuario\\anaconda3\\lib\\site-packages\\sklearn\\utils\\fixes.py\", line 117, in __call__\n",
      "    return self.function(*args, **kwargs)\n",
      "  File \"C:\\Users\\usuario\\anaconda3\\lib\\site-packages\\sklearn\\pipeline.py\", line 853, in _transform_one\n",
      "    res = transformer.transform(X)\n",
      "  File \"C:\\Users\\usuario\\anaconda3\\lib\\site-packages\\tpot\\builtins\\stacking_estimator.py\", line 83, in transform\n",
      "    X = check_array(X)\n",
      "  File \"C:\\Users\\usuario\\anaconda3\\lib\\site-packages\\sklearn\\utils\\validation.py\", line 887, in check_array\n",
      "    raise ValueError(\n",
      "ValueError: dtype='numeric' is not compatible with arrays of bytes/strings.Convert your data to numeric values explicitly instead.\n"
     ]
    }
   ],
   "source": [
    "\n",
    "app = Flask(__name__)\n",
    "\n",
    "app.secret_key = \"tfgPAU_GUI22\" #Secret Key\n",
    "\n",
    "# Load the model\n",
    "MODEL = joblib.load('./ValHepaticos-model.pkl')\n",
    "\n",
    "# Las etiquetas con las cuales se clasificaran nuevos datos\n",
    "\n",
    "MODEL_LABELS = [\"Valido\",\"No valido\"]\n",
    "\n",
    "\"\"\"\n",
    "El método predict sera el encargado de clasificar y dar una respuesta\n",
    "a cualquier IP que le envie una petición.\n",
    "\"\"\"\n",
    "\n",
    "@app.route('/predict')\n",
    "def predict():\n",
    "    \"\"\"\n",
    "    Declaramos cuales seran los parametros que recibe la petición\n",
    "    \n",
    "    \"\"\"\n",
    "    edad = request.args.get('edad')\n",
    "    sexo = request.args.get('sexo')\n",
    "    imc = request.args.get('imc')\n",
    "    hta = request.args.get('hta')\n",
    "    dm = request.args.get('dm')\n",
    "    dlp = request.args.get('dlp')\n",
    "    apm = request.args.get('apm')\n",
    "    apq = request.args.get('apq')\n",
    "    got = request.args.get('got')\n",
    "    gpt = request.args.get('gpt')\n",
    "    ggt = request.args.get('ggt')\n",
    "    na = request.args.get('na')\n",
    "    bbt = request.args.get('bbt')\n",
    "    acvhc = request.args.get('acvhc')\n",
    "    acvhbc = request.args.get('acvhbc')\n",
    "    dosisna = request.args.get('dosisna')\n",
    "    aminas = request.args.get('aminas')\n",
    "    ecografia_1 = request.args.get('ecografia_1')\n",
    "    ecografia_2 = request.args.get('ecografia_2')\n",
    "    ecografia_3 = request.args.get('ecografia_3')\n",
    "\n",
    "\n",
    "    # La lista de caracteristicas que se utilizaran\n",
    "    # para la predicción\n",
    "    features = [[edad, sexo, imc, hta, dm, dlp, apm, apq, got, gpt, ggt, na, bbt, acvhc, acvhbc, dosisna, aminas,ecografia_1, ecografia_2, ecografia_3]]\n",
    "    \n",
    "    # Utilizamos el modelo para la predicción de los datos\n",
    "    label_index = MODEL.predict(features)\n",
    "    y_proba = MODEL.predict_proba(features)\n",
    "    \n",
    "    \"\"\"\n",
    "    La variable label contendra el resultado de la clasificación.\n",
    "    \"\"\"\n",
    "    label = MODEL_LABELS[label_index[0]]\n",
    "    prob = y_proba[0][label_index[0]]\n",
    "   \n",
    "    \n",
    "    # Creamos y enviamos la respuesta al cliente\n",
    "    return jsonify(status='clasificado completado', clasificacion=label, probabilidad = str(prob))\n",
    "\n",
    "\n",
    "@app.route(\"/reentrenar\")\n",
    "def reentrenar():\n",
    "    #declaramos los parametros que le vendran:\n",
    "    indice = request.args.get('indice') #reentrenaremos añadiendo a partir de ese índice\n",
    "    start = time.time()\n",
    "    ultIndice, numInstancias = añadirInstancias(indice)\n",
    "    #quitamos la clase del dataset, vamos a realizar 10-CV\n",
    "    y = datos['class']\n",
    "    X = datos.drop(['class'], axis=1)\n",
    "    #vamos a devolver el auc y el acc\n",
    "    y_pred = cross_val_predict(MODEL, X, y, cv=10)\n",
    "    acc =  metrics.accuracy_score(y, y_pred)\n",
    "    y_proba = cross_val_predict(MODEL, X, y, cv=10, method='predict_proba')\n",
    "    y_proba_clase1 =  pd.Series(y_proba[:,1])\n",
    "    fprs, tprs, umbrales = metrics.roc_curve(y, y_proba_clase1)\n",
    "    auc = metrics.auc(fprs,tprs)\n",
    "    end = time.time()\n",
    "    tiempo = end-start\n",
    "    \n",
    "    return jsonify(status='reentrenado con exito', numeroInstancias=numInstancias, ultimaInstancia=ultIndice, valorAUC=auc, valorACC = acc, tiempoRequerido=tiempo)\n",
    "\n",
    "\n",
    "\n",
    "@app.route(\"/\")\n",
    "def index():\n",
    "    return \"<h1>Página del clasificador!</h1>\"\n",
    "\n",
    "if __name__ == '__main__':\n",
    "    # Iniciamos el servidor\n",
    "    #context = ('./cert/cert2.pem', './cert/key2.pem') #Location of certificate & key\n",
    "    #app.run(port=4000, ssl_context=context) #Specify variable to run function\n",
    "    serve(app, listen='localhost:8080')"
   ]
  }
 ],
 "metadata": {
  "kernelspec": {
   "display_name": "Python 3.8.8 ('base')",
   "language": "python",
   "name": "python3"
  },
  "language_info": {
   "codemirror_mode": {
    "name": "ipython",
    "version": 3
   },
   "file_extension": ".py",
   "mimetype": "text/x-python",
   "name": "python",
   "nbconvert_exporter": "python",
   "pygments_lexer": "ipython3",
   "version": "3.8.8"
  },
  "vscode": {
   "interpreter": {
    "hash": "b9181b24ef3e53db4bfc4e9af9efbcfb84a57342a9477c66f5d752a451ac5389"
   }
  }
 },
 "nbformat": 4,
 "nbformat_minor": 5
}
