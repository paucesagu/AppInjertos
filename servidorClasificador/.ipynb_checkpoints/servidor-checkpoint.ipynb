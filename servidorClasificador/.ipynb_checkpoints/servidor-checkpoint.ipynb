{
 "cells": [
  {
   "cell_type": "code",
   "execution_count": 10,
   "id": "4a2eee88",
   "metadata": {},
   "outputs": [],
   "source": [
    "# Importamos lo 3 métodos que utilizaremos\n",
    "from flask import Flask, request, jsonify\n",
    "from flask import *\n",
    "from waitress import serve\n",
    "import pandas as pd\n",
    "import numpy as np\n",
    "from copy import copy\n",
    "import csv as csv\n",
    "\n",
    "# Clasificación\n",
    "from sklearn.linear_model import LogisticRegression, SGDClassifier\n",
    "from sklearn import tree\n",
    "from xgboost import XGBClassifier\n",
    "from sklearn.neighbors import KNeighborsClassifier\n",
    "from sklearn.svm import SVC, LinearSVC, NuSVC\n",
    "from sklearn.tree import DecisionTreeClassifier\n",
    "from sklearn.ensemble import RandomForestClassifier, AdaBoostClassifier, GradientBoostingClassifier\n",
    "from sklearn.naive_bayes import GaussianNB\n",
    "from sklearn.discriminant_analysis import LinearDiscriminantAnalysis\n",
    "from sklearn.discriminant_analysis import QuadraticDiscriminantAnalysis\n",
    "from sklearn.naive_bayes import BernoulliNB\n",
    "\n",
    "#exportar modelo\n",
    "import joblib\n",
    "\n",
    "#TPOT\n",
    "#from tpot import TPOTClassifier\n",
    "from tpot.builtins import StackingEstimator, ZeroCount\n",
    "from tpot.export_utils import set_param_recursive\n",
    "\n",
    "# Evaluación\n",
    "from sklearn import metrics\n",
    "from sklearn.metrics import classification_report,precision_recall_fscore_support, f1_score, roc_curve, roc_auc_score,auc, accuracy_score, confusion_matrix\n",
    "from sklearn.model_selection import train_test_split, cross_val_predict, cross_val_score, LeaveOneOut\n",
    "\n",
    "#preprocesamiento\n",
    "from sklearn.preprocessing import FunctionTransformer, Normalizer, RobustScaler, StandardScaler\n",
    "\n",
    "# selección de atributos\n",
    "from sklearn.feature_selection import RFE\n",
    "from sklearn.feature_selection import f_classif, mutual_info_classif, chi2\n",
    "from sklearn.feature_selection import SelectPercentile, SelectKBest, SelectFromModel, VarianceThreshold\n",
    "\n",
    "#pipeline\n",
    "from sklearn.pipeline import Pipeline, make_pipeline, make_union\n",
    "\n",
    "\n",
    "#warnings\n",
    "import warnings\n",
    "warnings.filterwarnings('ignore')\n",
    "\n",
    "#para reentrenar\n",
    "import time\n",
    "import mysql.connector"
   ]
  },
  {
   "cell_type": "code",
   "execution_count": 5,
   "id": "f7ccf694",
   "metadata": {},
   "outputs": [
    {
     "name": "stdout",
     "output_type": "stream",
     "text": [
      "Name: Flask\n",
      "Version: 1.1.2\n",
      "Summary: A simple framework for building complex web applications.\n",
      "Home-page: https://palletsprojects.com/p/flask/\n",
      "Author: Armin Ronacher\n",
      "Author-email: armin.ronacher@active-4.com\n",
      "License: BSD-3-Clause\n",
      "Location: c:\\users\\usuario\\anaconda3\\lib\\site-packages\n",
      "Requires: Jinja2, Werkzeug, click, itsdangerous\n",
      "Required-by: \n"
     ]
    }
   ],
   "source": [
    "!pip show flask"
   ]
  },
  {
   "cell_type": "code",
   "execution_count": 6,
   "id": "bfdd1e72",
   "metadata": {},
   "outputs": [
    {
     "name": "stdout",
     "output_type": "stream",
     "text": [
      "Name: waitress\n",
      "Version: 2.1.2\n",
      "Summary: Waitress WSGI server\n",
      "Home-page: https://github.com/Pylons/waitress\n",
      "Author: Zope Foundation and Contributors\n",
      "Author-email: zope-dev@zope.org\n",
      "License: ZPL 2.1\n",
      "Location: c:\\users\\usuario\\anaconda3\\lib\\site-packages\n",
      "Requires: \n",
      "Required-by: \n"
     ]
    }
   ],
   "source": [
    "!pip show waitress"
   ]
  },
  {
   "cell_type": "code",
   "execution_count": 12,
   "id": "bbcc1400",
   "metadata": {},
   "outputs": [
    {
     "name": "stdout",
     "output_type": "stream",
     "text": [
      "Name: sklearn\n",
      "Version: 0.0\n",
      "Summary: A set of python modules for machine learning and data mining\n",
      "Home-page: https://pypi.python.org/pypi/scikit-learn/\n",
      "Author: UNKNOWN\n",
      "Author-email: UNKNOWN\n",
      "License: \n",
      "Location: c:\\users\\usuario\\anaconda3\\lib\\site-packages\n",
      "Requires: scikit-learn\n",
      "Required-by: \n"
     ]
    }
   ],
   "source": [
    "!pip show sklearn"
   ]
  },
  {
   "cell_type": "code",
   "execution_count": 13,
   "id": "97552279",
   "metadata": {},
   "outputs": [
    {
     "name": "stdout",
     "output_type": "stream",
     "text": [
      "Name: pandas\n",
      "Version: 1.4.2\n",
      "Summary: Powerful data structures for data analysis, time series, and statistics\n",
      "Home-page: https://pandas.pydata.org\n",
      "Author: The Pandas Development Team\n",
      "Author-email: pandas-dev@python.org\n",
      "License: BSD-3-Clause\n",
      "Location: c:\\users\\usuario\\anaconda3\\lib\\site-packages\n",
      "Requires: numpy, python-dateutil, pytz\n",
      "Required-by: xarray, TPOT, statsmodels, seaborn, hvplot, holoviews, datashader\n"
     ]
    }
   ],
   "source": [
    "!pip show pandas"
   ]
  },
  {
   "cell_type": "code",
   "execution_count": 14,
   "id": "c27f0cd2",
   "metadata": {},
   "outputs": [
    {
     "name": "stdout",
     "output_type": "stream",
     "text": [
      "Name: joblib\n",
      "Version: 1.1.0\n",
      "Summary: Lightweight pipelining with Python functions\n",
      "Home-page: https://joblib.readthedocs.io\n",
      "Author: Gael Varoquaux\n",
      "Author-email: gael.varoquaux@normalesup.org\n",
      "License: BSD\n",
      "Location: c:\\users\\usuario\\anaconda3\\lib\\site-packages\n",
      "Requires: \n",
      "Required-by: TPOT, scikit-learn, nltk\n"
     ]
    }
   ],
   "source": [
    "!pip show joblib"
   ]
  },
  {
   "cell_type": "code",
   "execution_count": 15,
   "id": "b823ff4b",
   "metadata": {},
   "outputs": [
    {
     "name": "stdout",
     "output_type": "stream",
     "text": [
      "Name: TPOT\n",
      "Version: 0.11.7\n",
      "Summary: Tree-based Pipeline Optimization Tool\n",
      "Home-page: https://github.com/EpistasisLab/tpot\n",
      "Author: Randal S. Olson\n",
      "Author-email: rso@randalolson.com\n",
      "License: GNU/LGPLv3\n",
      "Location: c:\\users\\usuario\\anaconda3\\lib\\site-packages\n",
      "Requires: stopit, tqdm, xgboost, scikit-learn, pandas, scipy, numpy, joblib, update-checker, deap\n",
      "Required-by: \n"
     ]
    }
   ],
   "source": [
    "!pip show tpot"
   ]
  },
  {
   "cell_type": "code",
   "execution_count": 16,
   "id": "a64b7eff",
   "metadata": {},
   "outputs": [
    {
     "name": "stdout",
     "output_type": "stream",
     "text": [
      "Name: mysql-connector\n",
      "Version: 2.2.9\n",
      "Summary: MySQL driver written in Python\n",
      "Home-page: http://dev.mysql.com/doc/connector-python/en/index.html\n",
      "Author: Oracle and/or its affiliates\n",
      "Author-email: \n",
      "License: GNU GPLv2 (with FOSS License Exception)\n",
      "Location: c:\\users\\usuario\\anaconda3\\lib\\site-packages\n",
      "Requires: \n",
      "Required-by: \n"
     ]
    }
   ],
   "source": [
    "!pip show mysql.connector"
   ]
  },
  {
   "cell_type": "code",
   "execution_count": 21,
   "id": "f19adce2",
   "metadata": {},
   "outputs": [
    {
     "name": "stdout",
     "output_type": "stream",
     "text": [
      "Requirement already satisfied: pandas in c:\\users\\usuario\\anaconda3\\lib\\site-packages (1.4.3)\n",
      "Requirement already satisfied: pytz>=2020.1 in c:\\users\\usuario\\anaconda3\\lib\\site-packages (from pandas) (2021.3)\n",
      "Requirement already satisfied: numpy>=1.18.5 in c:\\users\\usuario\\anaconda3\\lib\\site-packages (from pandas) (1.21.5)\n",
      "Requirement already satisfied: python-dateutil>=2.8.1 in c:\\users\\usuario\\anaconda3\\lib\\site-packages (from pandas) (2.8.2)\n",
      "Requirement already satisfied: six>=1.5 in c:\\users\\usuario\\anaconda3\\lib\\site-packages (from python-dateutil>=2.8.1->pandas) (1.16.0)\n"
     ]
    }
   ],
   "source": [
    "!pip install pandas --upgrade --user"
   ]
  },
  {
   "cell_type": "code",
   "execution_count": 18,
   "id": "c4b91493",
   "metadata": {},
   "outputs": [
    {
     "name": "stdout",
     "output_type": "stream",
     "text": [
      "Name: Flask\n",
      "Version: 2.1.3\n",
      "Summary: A simple framework for building complex web applications.\n",
      "Home-page: https://palletsprojects.com/p/flask\n",
      "Author: Armin Ronacher\n",
      "Author-email: armin.ronacher@active-4.com\n",
      "License: BSD-3-Clause\n",
      "Location: c:\\users\\usuario\\anaconda3\\lib\\site-packages\n",
      "Requires: click, Werkzeug, Jinja2, importlib-metadata, itsdangerous\n",
      "Required-by: \n"
     ]
    }
   ],
   "source": [
    "!pip show flask"
   ]
  },
  {
   "cell_type": "code",
   "execution_count": 22,
   "id": "afcfe5b7",
   "metadata": {},
   "outputs": [
    {
     "name": "stdout",
     "output_type": "stream",
     "text": [
      "Name: pandas\n",
      "Version: 1.4.3\n",
      "Summary: Powerful data structures for data analysis, time series, and statistics\n",
      "Home-page: https://pandas.pydata.org\n",
      "Author: The Pandas Development Team\n",
      "Author-email: pandas-dev@python.org\n",
      "License: BSD-3-Clause\n",
      "Location: c:\\users\\usuario\\anaconda3\\lib\\site-packages\n",
      "Requires: python-dateutil, numpy, pytz\n",
      "Required-by: xarray, TPOT, statsmodels, seaborn, hvplot, holoviews, datashader\n"
     ]
    }
   ],
   "source": [
    "!pip show pandas"
   ]
  },
  {
   "cell_type": "code",
   "execution_count": 23,
   "id": "c31a2d17",
   "metadata": {},
   "outputs": [],
   "source": [
    "datos =  pd.read_csv('datos_one_hot.csv')\n",
    "datos = datos.drop(['Unnamed: 0'], axis=1)"
   ]
  },
  {
   "cell_type": "code",
   "execution_count": 24,
   "id": "c56cf5ad",
   "metadata": {},
   "outputs": [],
   "source": [
    "#nos conectamos a la base de datos mysql y añadimos la fila cuyo indice sea mayor al dado por parámetro para no añadir todas las de la bd y evitar que esten repetidas\n",
    "def añadirInstancias(indice):\n",
    "    \n",
    "    conexion1=mysql.connector.connect(host='127.0.0.1',\n",
    "        user='root',\n",
    "        password='password',\n",
    "        database='injertosdb',\n",
    "        port=3306,\n",
    "        auth_plugin='mysql_native_password') \n",
    "    ultIndice = 0\n",
    "    cursor1=conexion1.cursor()\n",
    "    sentencia = \"SELECT id, edad, sexo, imc, hta, dm, dlp, apm, apq, got, gpt, ggt, na,bbt, acvhc, acvhbc, dosisna, aminas, validez, ecografia_1, ecografia_2, ecografia_3 FROM injertos i LEFT OUTER JOIN valoraciones v ON  v.id_injerto = i.id where id>\" + str(indice)\n",
    "    #tenemos que guardar por que indice nos hemos quedado\n",
    "    cursor1.execute(sentencia)\n",
    "    for fila in cursor1:\n",
    "        ultIndice = fila[0]\n",
    "        datos.loc[len(datos)] = list(fila)[1:]\n",
    "    conexion1.close()\n",
    "    datos.to_csv('datos_one_hot.csv') #actualizamos el dataset con las nuevas instancias\n",
    "    return (ultIndice, len(datos))\n"
   ]
  },
  {
   "cell_type": "code",
   "execution_count": 26,
   "id": "755d66ea",
   "metadata": {
    "scrolled": false
   },
   "outputs": [
    {
     "name": "stdout",
     "output_type": "stream",
     "text": [
      "[['63', '1', '24.49', '0', '0', '0', '0', '0', '15', '18', '43', '138', '0.4', '0', '2', '0', '0', '1', '0', '0']]\n"
     ]
    }
   ],
   "source": [
    "\n",
    "app = Flask(__name__)\n",
    "\n",
    "app.secret_key = \"tfgPAU_GUI22\" #Secret Key\n",
    "\n",
    "# Load the model\n",
    "MODEL = joblib.load('./injertos-model.joblib')\n",
    "\n",
    "# Las etiquetas con las cuales se clasificaran nuevos datos\n",
    "\n",
    "MODEL_LABELS = [\"Valido\",\"No valido\"]\n",
    "\n",
    "\"\"\"\n",
    "El método predict sera el encargado de clasificar y dar una respuesta\n",
    "a cualquier IP que le envie una petición.\n",
    "\"\"\"\n",
    "\n",
    "@app.route('/predict')\n",
    "def predict():\n",
    "    \"\"\"\n",
    "    Declaramos cuales seran los parametros que recibe la petición\n",
    "    \n",
    "    \"\"\"\n",
    "    edad = request.args.get('edad')\n",
    "    sexo = request.args.get('sexo')\n",
    "    imc = request.args.get('imc')\n",
    "    hta = request.args.get('hta')\n",
    "    dm = request.args.get('dm')\n",
    "    dlp = request.args.get('dlp')\n",
    "    apm = request.args.get('apm')\n",
    "    apq = request.args.get('apq')\n",
    "    got = request.args.get('got')\n",
    "    gpt = request.args.get('gpt')\n",
    "    ggt = request.args.get('ggt')\n",
    "    na = request.args.get('na')\n",
    "    bbt = request.args.get('bbt')\n",
    "    acvhc = request.args.get('acvhc')\n",
    "    acvhbc = request.args.get('acvhbc')\n",
    "    dosisna = request.args.get('dosisna')\n",
    "    aminas = request.args.get('aminas')\n",
    "    ecografia_1 = request.args.get('ecografia_1')\n",
    "    ecografia_2 = request.args.get('ecografia_2')\n",
    "    ecografia_3 = request.args.get('ecografia_3')\n",
    "\n",
    "\n",
    "    # La lista de caracteristicas que se utilizaran\n",
    "    # para la predicción\n",
    "    features = [[edad, sexo, imc, hta, dm, dlp, apm, apq, got, gpt, ggt, na, bbt, acvhc, acvhbc, dosisna, aminas,ecografia_1, ecografia_2, ecografia_3]]\n",
    "    print(features)\n",
    "    # Utilizamos el modelo para la predicción de los datos\n",
    "    label_index = MODEL.predict(features)\n",
    "    y_proba = MODEL.predict_proba(features)\n",
    "    \n",
    "    \"\"\"\n",
    "    La variable label contendra el resultado de la clasificación.\n",
    "    \"\"\"\n",
    "    label = MODEL_LABELS[label_index[0]]\n",
    "    prob = y_proba[0][label_index[0]]\n",
    "   \n",
    "    \n",
    "    # Creamos y enviamos la respuesta al cliente\n",
    "    return jsonify(status='clasificado completado', clasificacion=label, probabilidad = str(prob))\n",
    "\n",
    "\n",
    "@app.route(\"/reentrenar\")\n",
    "def reentrenar():\n",
    "    #declaramos los parametros que le vendran:\n",
    "    indice = request.args.get('indice') #reentrenaremos añadiendo a partir de ese índice\n",
    "    start = time.time()\n",
    "    ultIndice, numInstancias = añadirInstancias(indice)\n",
    "    #quitamos la clase del dataset, vamos a realizar 10-CV\n",
    "    y = datos['class']\n",
    "    X = datos.drop(['class'], axis=1)\n",
    "    #vamos a devolver el auc y el acc\n",
    "    y_pred = cross_val_predict(MODEL, X, y, cv=10)\n",
    "    acc =  metrics.accuracy_score(y, y_pred)\n",
    "    y_proba = cross_val_predict(MODEL, X, y, cv=10, method='predict_proba')\n",
    "    y_proba_clase1 =  pd.Series(y_proba[:,1])\n",
    "    fprs, tprs, umbrales = metrics.roc_curve(y, y_proba_clase1)\n",
    "    auc = metrics.auc(fprs,tprs)\n",
    "    end = time.time()\n",
    "    tiempo = end-start\n",
    "    \n",
    "    return jsonify(status='reentrenado con exito', numeroInstancias=numInstancias, ultimaInstancia=ultIndice, valorAUC=auc, valorACC = acc, tiempoRequerido=tiempo)\n",
    "\n",
    "\n",
    "\n",
    "@app.route(\"/\")\n",
    "def index():\n",
    "    return \"<h1>Página del clasificador!</h1>\"\n",
    "\n",
    "if __name__ == '__main__':\n",
    "    # Iniciamos el servidor\n",
    "    #context = ('./cert/cert2.pem', './cert/key2.pem') #Location of certificate & key\n",
    "    #app.run(port=4000, ssl_context=context) #Specify variable to run function\n",
    "    serve(app, listen='localhost:8080')"
   ]
  },
  {
   "cell_type": "code",
   "execution_count": 27,
   "id": "1531bbff",
   "metadata": {},
   "outputs": [
    {
     "data": {
      "text/plain": [
       "array([0])"
      ]
     },
     "execution_count": 27,
     "metadata": {},
     "output_type": "execute_result"
    }
   ],
   "source": [
    "MODEL = joblib.load('./injertos-model.joblib')\n",
    "MODEL.predict([['63', '1', '24.49', '0', '0', '0', '0', '0', '15', '18', '43', '138', '0.4', '0', '2', '0', '0', '1', '0', '0']])"
   ]
  }
 ],
 "metadata": {
  "kernelspec": {
   "display_name": "Python 3.9.12 ('base')",
   "language": "python",
   "name": "python3"
  },
  "language_info": {
   "codemirror_mode": {
    "name": "ipython",
    "version": 3
   },
   "file_extension": ".py",
   "mimetype": "text/x-python",
   "name": "python",
   "nbconvert_exporter": "python",
   "pygments_lexer": "ipython3",
   "version": "3.9.12"
  },
  "vscode": {
   "interpreter": {
    "hash": "98b921049c439807c081d6616d9731da5920d3b6edca6190edeae5a80cc907f5"
   }
  }
 },
 "nbformat": 4,
 "nbformat_minor": 5
}
