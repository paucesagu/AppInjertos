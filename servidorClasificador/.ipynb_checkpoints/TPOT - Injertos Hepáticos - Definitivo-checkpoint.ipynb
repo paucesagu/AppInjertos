{
 "cells": [
  {
   "cell_type": "markdown",
   "metadata": {},
   "source": [
    "## Importaciones de librerías y paquetes necesarios"
   ]
  },
  {
   "cell_type": "code",
   "execution_count": 1,
   "metadata": {},
   "outputs": [
    {
     "name": "stderr",
     "output_type": "stream",
     "text": [
      "C:\\Users\\bepontes\\Anaconda3\\lib\\site-packages\\deap\\tools\\_hypervolume\\pyhv.py:33: ImportWarning: Falling back to the python version of hypervolume module. Expect this to be very slow.\n",
      "  \"module. Expect this to be very slow.\", ImportWarning)\n",
      "C:\\Users\\bepontes\\Anaconda3\\lib\\site-packages\\sklearn\\externals\\joblib\\__init__.py:15: DeprecationWarning: sklearn.externals.joblib is deprecated in 0.21 and will be removed in 0.23. Please import this functionality directly from joblib, which can be installed with: pip install joblib. If this warning is raised when loading pickled models, you may need to re-serialize those models with scikit-learn 0.21+.\n",
      "  warnings.warn(msg, category=DeprecationWarning)\n"
     ]
    }
   ],
   "source": [
    "import pandas as pd\n",
    "import numpy as np\n",
    "import statistics\n",
    "from copy import copy\n",
    "\n",
    "# Clasificación\n",
    "from sklearn.linear_model import LogisticRegression\n",
    "from sklearn import tree\n",
    "from xgboost import XGBClassifier\n",
    "from sklearn.neighbors import KNeighborsClassifier\n",
    "from sklearn.svm import SVC, LinearSVC, NuSVC\n",
    "from sklearn.tree import DecisionTreeClassifier\n",
    "from sklearn.ensemble import RandomForestClassifier, AdaBoostClassifier, GradientBoostingClassifier\n",
    "from sklearn.naive_bayes import GaussianNB\n",
    "from sklearn.discriminant_analysis import LinearDiscriminantAnalysis\n",
    "from sklearn.discriminant_analysis import QuadraticDiscriminantAnalysis\n",
    "from sklearn.naive_bayes import BernoulliNB\n",
    "\n",
    "#TPOT\n",
    "#from tpot import TPOTClassifier\n",
    "from tpot.builtins import StackingEstimator, ZeroCount\n",
    "\n",
    "# Evaluación\n",
    "from sklearn import metrics\n",
    "from sklearn.metrics import classification_report,precision_recall_fscore_support, f1_score, roc_curve, roc_auc_score,auc, accuracy_score, confusion_matrix\n",
    "from sklearn.model_selection import train_test_split, cross_val_predict, cross_val_score, LeaveOneOut\n",
    "\n",
    "# Visualización\n",
    "import seaborn as sns\n",
    "import matplotlib.pyplot as plt\n",
    "\n",
    "#preprocesamiento\n",
    "from sklearn.preprocessing import FunctionTransformer\n",
    "\n",
    "# selección de atributos\n",
    "from sklearn.feature_selection import RFE\n",
    "from sklearn.feature_selection import f_classif, mutual_info_classif, chi2\n",
    "from sklearn.feature_selection import SelectPercentile, SelectKBest, SelectFromModel, VarianceThreshold\n",
    "\n",
    "#pipeline\n",
    "from sklearn.pipeline import Pipeline, make_pipeline, make_union\n",
    "\n"
   ]
  },
  {
   "cell_type": "markdown",
   "metadata": {},
   "source": [
    "## Lectura y tratamiento del dataset"
   ]
  },
  {
   "cell_type": "code",
   "execution_count": 2,
   "metadata": {},
   "outputs": [
    {
     "name": "stdout",
     "output_type": "stream",
     "text": [
      "<class 'pandas.core.frame.DataFrame'>\n"
     ]
    }
   ],
   "source": [
    "datos = pd.read_csv('data/injertosTotales_350.csv')\n",
    "print(type(datos))"
   ]
  },
  {
   "cell_type": "code",
   "execution_count": 3,
   "metadata": {},
   "outputs": [],
   "source": [
    "#modifica los valores ausentes con NaN y convierte las columnas a numéricas\n",
    "datos = datos.apply(pd.to_numeric, errors='coerce')\n",
    "# NOTE: Make sure that the class is labeled 'class' in the data file\n",
    "datos.rename(columns={'Validez': 'class'}, inplace=True)"
   ]
  },
  {
   "cell_type": "code",
   "execution_count": 5,
   "metadata": {},
   "outputs": [
    {
     "name": "stdout",
     "output_type": "stream",
     "text": [
      "<class 'pandas.core.frame.DataFrame'>\n",
      "RangeIndex: 350 entries, 0 to 349\n",
      "Data columns (total 19 columns):\n",
      "Edad         350 non-null int64\n",
      "Sexo         350 non-null int64\n",
      "IMC          346 non-null float64\n",
      "HTA          350 non-null int64\n",
      "DM           350 non-null int64\n",
      "DLP          350 non-null int64\n",
      "APM          350 non-null int64\n",
      "APQ          350 non-null int64\n",
      "Ecografia    350 non-null int64\n",
      "GOT          349 non-null float64\n",
      "GPT          350 non-null int64\n",
      "GGT          341 non-null float64\n",
      "Na           350 non-null float64\n",
      "BbT          347 non-null float64\n",
      "AcVHC        349 non-null float64\n",
      "AcVHBc       349 non-null float64\n",
      "DosisNA      350 non-null float64\n",
      "Aminas       350 non-null int64\n",
      "class        350 non-null int64\n",
      "dtypes: float64(8), int64(11)\n",
      "memory usage: 52.1 KB\n",
      "None\n",
      "             Edad        Sexo         IMC         HTA          DM         DLP  \\\n",
      "count  350.000000  350.000000  346.000000  350.000000  350.000000  350.000000   \n",
      "mean    59.968571    1.457143   27.890671    1.437143    1.797143    1.662857   \n",
      "std     15.026496    0.498873    5.213641    0.496743    0.402703    0.473411   \n",
      "min     14.000000    1.000000    2.000000    1.000000    1.000000    1.000000   \n",
      "25%     51.250000    1.000000   24.682500    1.000000    2.000000    1.000000   \n",
      "50%     62.000000    1.000000   27.550000    1.000000    2.000000    2.000000   \n",
      "75%     71.750000    2.000000   30.725000    2.000000    2.000000    2.000000   \n",
      "max     85.000000    2.000000   63.250000    2.000000    2.000000    2.000000   \n",
      "\n",
      "              APM         APQ   Ecografia         GOT          GPT  \\\n",
      "count  350.000000  350.000000  350.000000  349.000000   350.000000   \n",
      "mean     1.465714    1.785714    1.345714   46.824069    46.208571   \n",
      "std      0.499537    0.410913    0.622336   48.667676   112.126461   \n",
      "min      1.000000    1.000000    1.000000   10.000000     7.000000   \n",
      "25%      1.000000    2.000000    1.000000   21.000000    16.000000   \n",
      "50%      1.000000    2.000000    1.000000   30.000000    25.000000   \n",
      "75%      2.000000    2.000000    2.000000   54.200000    45.000000   \n",
      "max      2.000000    2.000000    3.000000  431.000000  1917.000000   \n",
      "\n",
      "               GGT          Na         BbT       AcVHC      AcVHBc  \\\n",
      "count   341.000000  350.000000  347.000000  349.000000  349.000000   \n",
      "mean     73.331672  145.915143    0.673948    1.985673    1.902579   \n",
      "std     111.360262    9.588671    0.466279    0.119004    0.306480   \n",
      "min       6.000000   42.000000    0.100000    1.000000    1.000000   \n",
      "25%      19.000000  140.250000    0.360000    2.000000    2.000000   \n",
      "50%      39.000000  146.000000    0.550000    2.000000    2.000000   \n",
      "75%      78.000000  151.000000    0.860000    2.000000    2.000000   \n",
      "max    1029.000000  179.000000    3.660000    2.000000    3.000000   \n",
      "\n",
      "          DosisNA      Aminas       class  \n",
      "count  350.000000  350.000000  350.000000  \n",
      "mean     0.185166    1.202857    0.351429  \n",
      "std      0.228650    0.409756    0.478100  \n",
      "min      0.000000    0.000000    0.000000  \n",
      "25%      0.020000    1.000000    0.000000  \n",
      "50%      0.100000    1.000000    0.000000  \n",
      "75%      0.250000    1.000000    1.000000  \n",
      "max      1.330000    2.000000    1.000000  \n"
     ]
    }
   ],
   "source": [
    "print(datos.info())\n",
    "print(datos.describe())\n",
    "datos.rename(columns={'Validez': 'class'}, inplace=True)"
   ]
  },
  {
   "cell_type": "code",
   "execution_count": 6,
   "metadata": {},
   "outputs": [],
   "source": [
    "#valores ausentes: media o moda según la clase\n",
    "for column in datos.columns:\n",
    "        if column in ['IMC','GOT','GGT','BbT']:\n",
    "            datos[column].fillna(datos.groupby(\"class\")[column].transform(\"mean\"), inplace=True)            \n",
    "        if column in ['AcVHC','AcVHBc']:\n",
    "            #la moda para ambas columnas es la misma independientemente de la etiqueta de clase\n",
    "            datos[column].fillna(value=datos[column].mode()[0], inplace = True) \n"
   ]
  },
  {
   "cell_type": "code",
   "execution_count": 7,
   "metadata": {},
   "outputs": [
    {
     "name": "stdout",
     "output_type": "stream",
     "text": [
      "<class 'pandas.core.frame.DataFrame'>\n",
      "RangeIndex: 350 entries, 0 to 349\n",
      "Data columns (total 19 columns):\n",
      "Edad         350 non-null int64\n",
      "Sexo         350 non-null int64\n",
      "IMC          350 non-null float64\n",
      "HTA          350 non-null int64\n",
      "DM           350 non-null int64\n",
      "DLP          350 non-null int64\n",
      "APM          350 non-null int64\n",
      "APQ          350 non-null int64\n",
      "Ecografia    350 non-null int64\n",
      "GOT          350 non-null float64\n",
      "GPT          350 non-null int64\n",
      "GGT          350 non-null float64\n",
      "Na           350 non-null float64\n",
      "BbT          350 non-null float64\n",
      "AcVHC        350 non-null float64\n",
      "AcVHBc       350 non-null float64\n",
      "DosisNA      350 non-null float64\n",
      "Aminas       350 non-null int64\n",
      "class        350 non-null int64\n",
      "dtypes: float64(8), int64(11)\n",
      "memory usage: 52.1 KB\n"
     ]
    }
   ],
   "source": [
    "datos.info()"
   ]
  },
  {
   "cell_type": "code",
   "execution_count": 8,
   "metadata": {},
   "outputs": [
    {
     "data": {
      "text/html": [
       "<div>\n",
       "<style scoped>\n",
       "    .dataframe tbody tr th:only-of-type {\n",
       "        vertical-align: middle;\n",
       "    }\n",
       "\n",
       "    .dataframe tbody tr th {\n",
       "        vertical-align: top;\n",
       "    }\n",
       "\n",
       "    .dataframe thead th {\n",
       "        text-align: right;\n",
       "    }\n",
       "</style>\n",
       "<table border=\"1\" class=\"dataframe\">\n",
       "  <thead>\n",
       "    <tr style=\"text-align: right;\">\n",
       "      <th></th>\n",
       "      <th>Edad</th>\n",
       "      <th>Sexo</th>\n",
       "      <th>IMC</th>\n",
       "      <th>HTA</th>\n",
       "      <th>DM</th>\n",
       "      <th>DLP</th>\n",
       "      <th>APM</th>\n",
       "      <th>APQ</th>\n",
       "      <th>Ecografia</th>\n",
       "      <th>GOT</th>\n",
       "      <th>GPT</th>\n",
       "      <th>GGT</th>\n",
       "      <th>Na</th>\n",
       "      <th>BbT</th>\n",
       "      <th>AcVHC</th>\n",
       "      <th>AcVHBc</th>\n",
       "      <th>DosisNA</th>\n",
       "      <th>Aminas</th>\n",
       "      <th>class</th>\n",
       "    </tr>\n",
       "  </thead>\n",
       "  <tbody>\n",
       "    <tr>\n",
       "      <td>0</td>\n",
       "      <td>21</td>\n",
       "      <td>2</td>\n",
       "      <td>28.89</td>\n",
       "      <td>2</td>\n",
       "      <td>2</td>\n",
       "      <td>2</td>\n",
       "      <td>1</td>\n",
       "      <td>2</td>\n",
       "      <td>1</td>\n",
       "      <td>45.0</td>\n",
       "      <td>95</td>\n",
       "      <td>300.000000</td>\n",
       "      <td>149.0</td>\n",
       "      <td>0.32</td>\n",
       "      <td>2.0</td>\n",
       "      <td>2.0</td>\n",
       "      <td>0.00</td>\n",
       "      <td>2</td>\n",
       "      <td>1</td>\n",
       "    </tr>\n",
       "    <tr>\n",
       "      <td>1</td>\n",
       "      <td>79</td>\n",
       "      <td>2</td>\n",
       "      <td>31.25</td>\n",
       "      <td>1</td>\n",
       "      <td>2</td>\n",
       "      <td>2</td>\n",
       "      <td>1</td>\n",
       "      <td>1</td>\n",
       "      <td>1</td>\n",
       "      <td>23.0</td>\n",
       "      <td>17</td>\n",
       "      <td>18.000000</td>\n",
       "      <td>145.0</td>\n",
       "      <td>0.34</td>\n",
       "      <td>2.0</td>\n",
       "      <td>2.0</td>\n",
       "      <td>0.02</td>\n",
       "      <td>1</td>\n",
       "      <td>1</td>\n",
       "    </tr>\n",
       "    <tr>\n",
       "      <td>2</td>\n",
       "      <td>77</td>\n",
       "      <td>1</td>\n",
       "      <td>28.41</td>\n",
       "      <td>1</td>\n",
       "      <td>1</td>\n",
       "      <td>1</td>\n",
       "      <td>1</td>\n",
       "      <td>2</td>\n",
       "      <td>1</td>\n",
       "      <td>12.0</td>\n",
       "      <td>10</td>\n",
       "      <td>36.000000</td>\n",
       "      <td>149.0</td>\n",
       "      <td>0.33</td>\n",
       "      <td>2.0</td>\n",
       "      <td>2.0</td>\n",
       "      <td>0.08</td>\n",
       "      <td>1</td>\n",
       "      <td>1</td>\n",
       "    </tr>\n",
       "    <tr>\n",
       "      <td>3</td>\n",
       "      <td>80</td>\n",
       "      <td>2</td>\n",
       "      <td>23.44</td>\n",
       "      <td>1</td>\n",
       "      <td>2</td>\n",
       "      <td>1</td>\n",
       "      <td>1</td>\n",
       "      <td>2</td>\n",
       "      <td>1</td>\n",
       "      <td>54.0</td>\n",
       "      <td>17</td>\n",
       "      <td>11.000000</td>\n",
       "      <td>152.0</td>\n",
       "      <td>1.00</td>\n",
       "      <td>2.0</td>\n",
       "      <td>2.0</td>\n",
       "      <td>0.10</td>\n",
       "      <td>1</td>\n",
       "      <td>1</td>\n",
       "    </tr>\n",
       "    <tr>\n",
       "      <td>4</td>\n",
       "      <td>49</td>\n",
       "      <td>1</td>\n",
       "      <td>27.70</td>\n",
       "      <td>2</td>\n",
       "      <td>2</td>\n",
       "      <td>2</td>\n",
       "      <td>1</td>\n",
       "      <td>2</td>\n",
       "      <td>2</td>\n",
       "      <td>56.0</td>\n",
       "      <td>85</td>\n",
       "      <td>87.135088</td>\n",
       "      <td>137.0</td>\n",
       "      <td>0.40</td>\n",
       "      <td>1.0</td>\n",
       "      <td>2.0</td>\n",
       "      <td>0.00</td>\n",
       "      <td>2</td>\n",
       "      <td>1</td>\n",
       "    </tr>\n",
       "    <tr>\n",
       "      <td>...</td>\n",
       "      <td>...</td>\n",
       "      <td>...</td>\n",
       "      <td>...</td>\n",
       "      <td>...</td>\n",
       "      <td>...</td>\n",
       "      <td>...</td>\n",
       "      <td>...</td>\n",
       "      <td>...</td>\n",
       "      <td>...</td>\n",
       "      <td>...</td>\n",
       "      <td>...</td>\n",
       "      <td>...</td>\n",
       "      <td>...</td>\n",
       "      <td>...</td>\n",
       "      <td>...</td>\n",
       "      <td>...</td>\n",
       "      <td>...</td>\n",
       "      <td>...</td>\n",
       "      <td>...</td>\n",
       "    </tr>\n",
       "    <tr>\n",
       "      <td>345</td>\n",
       "      <td>82</td>\n",
       "      <td>2</td>\n",
       "      <td>22.22</td>\n",
       "      <td>1</td>\n",
       "      <td>2</td>\n",
       "      <td>1</td>\n",
       "      <td>1</td>\n",
       "      <td>2</td>\n",
       "      <td>1</td>\n",
       "      <td>13.0</td>\n",
       "      <td>34</td>\n",
       "      <td>27.000000</td>\n",
       "      <td>152.0</td>\n",
       "      <td>0.60</td>\n",
       "      <td>2.0</td>\n",
       "      <td>2.0</td>\n",
       "      <td>0.10</td>\n",
       "      <td>1</td>\n",
       "      <td>1</td>\n",
       "    </tr>\n",
       "    <tr>\n",
       "      <td>346</td>\n",
       "      <td>69</td>\n",
       "      <td>1</td>\n",
       "      <td>33.35</td>\n",
       "      <td>2</td>\n",
       "      <td>2</td>\n",
       "      <td>1</td>\n",
       "      <td>1</td>\n",
       "      <td>2</td>\n",
       "      <td>2</td>\n",
       "      <td>17.0</td>\n",
       "      <td>13</td>\n",
       "      <td>16.000000</td>\n",
       "      <td>142.0</td>\n",
       "      <td>0.50</td>\n",
       "      <td>2.0</td>\n",
       "      <td>2.0</td>\n",
       "      <td>0.10</td>\n",
       "      <td>1</td>\n",
       "      <td>1</td>\n",
       "    </tr>\n",
       "    <tr>\n",
       "      <td>347</td>\n",
       "      <td>70</td>\n",
       "      <td>1</td>\n",
       "      <td>26.30</td>\n",
       "      <td>1</td>\n",
       "      <td>2</td>\n",
       "      <td>2</td>\n",
       "      <td>1</td>\n",
       "      <td>2</td>\n",
       "      <td>2</td>\n",
       "      <td>17.0</td>\n",
       "      <td>23</td>\n",
       "      <td>132.000000</td>\n",
       "      <td>154.0</td>\n",
       "      <td>1.40</td>\n",
       "      <td>2.0</td>\n",
       "      <td>2.0</td>\n",
       "      <td>0.15</td>\n",
       "      <td>1</td>\n",
       "      <td>1</td>\n",
       "    </tr>\n",
       "    <tr>\n",
       "      <td>348</td>\n",
       "      <td>50</td>\n",
       "      <td>1</td>\n",
       "      <td>28.01</td>\n",
       "      <td>2</td>\n",
       "      <td>2</td>\n",
       "      <td>2</td>\n",
       "      <td>2</td>\n",
       "      <td>2</td>\n",
       "      <td>2</td>\n",
       "      <td>48.0</td>\n",
       "      <td>45</td>\n",
       "      <td>720.000000</td>\n",
       "      <td>135.0</td>\n",
       "      <td>1.10</td>\n",
       "      <td>2.0</td>\n",
       "      <td>2.0</td>\n",
       "      <td>0.10</td>\n",
       "      <td>1</td>\n",
       "      <td>1</td>\n",
       "    </tr>\n",
       "    <tr>\n",
       "      <td>349</td>\n",
       "      <td>78</td>\n",
       "      <td>1</td>\n",
       "      <td>25.71</td>\n",
       "      <td>1</td>\n",
       "      <td>1</td>\n",
       "      <td>1</td>\n",
       "      <td>1</td>\n",
       "      <td>2</td>\n",
       "      <td>3</td>\n",
       "      <td>33.0</td>\n",
       "      <td>14</td>\n",
       "      <td>180.000000</td>\n",
       "      <td>153.0</td>\n",
       "      <td>1.90</td>\n",
       "      <td>2.0</td>\n",
       "      <td>2.0</td>\n",
       "      <td>0.20</td>\n",
       "      <td>1</td>\n",
       "      <td>1</td>\n",
       "    </tr>\n",
       "  </tbody>\n",
       "</table>\n",
       "<p>350 rows × 19 columns</p>\n",
       "</div>"
      ],
      "text/plain": [
       "     Edad  Sexo    IMC  HTA  DM  DLP  APM  APQ  Ecografia   GOT  GPT  \\\n",
       "0      21     2  28.89    2   2    2    1    2          1  45.0   95   \n",
       "1      79     2  31.25    1   2    2    1    1          1  23.0   17   \n",
       "2      77     1  28.41    1   1    1    1    2          1  12.0   10   \n",
       "3      80     2  23.44    1   2    1    1    2          1  54.0   17   \n",
       "4      49     1  27.70    2   2    2    1    2          2  56.0   85   \n",
       "..    ...   ...    ...  ...  ..  ...  ...  ...        ...   ...  ...   \n",
       "345    82     2  22.22    1   2    1    1    2          1  13.0   34   \n",
       "346    69     1  33.35    2   2    1    1    2          2  17.0   13   \n",
       "347    70     1  26.30    1   2    2    1    2          2  17.0   23   \n",
       "348    50     1  28.01    2   2    2    2    2          2  48.0   45   \n",
       "349    78     1  25.71    1   1    1    1    2          3  33.0   14   \n",
       "\n",
       "            GGT     Na   BbT  AcVHC  AcVHBc  DosisNA  Aminas  class  \n",
       "0    300.000000  149.0  0.32    2.0     2.0     0.00       2      1  \n",
       "1     18.000000  145.0  0.34    2.0     2.0     0.02       1      1  \n",
       "2     36.000000  149.0  0.33    2.0     2.0     0.08       1      1  \n",
       "3     11.000000  152.0  1.00    2.0     2.0     0.10       1      1  \n",
       "4     87.135088  137.0  0.40    1.0     2.0     0.00       2      1  \n",
       "..          ...    ...   ...    ...     ...      ...     ...    ...  \n",
       "345   27.000000  152.0  0.60    2.0     2.0     0.10       1      1  \n",
       "346   16.000000  142.0  0.50    2.0     2.0     0.10       1      1  \n",
       "347  132.000000  154.0  1.40    2.0     2.0     0.15       1      1  \n",
       "348  720.000000  135.0  1.10    2.0     2.0     0.10       1      1  \n",
       "349  180.000000  153.0  1.90    2.0     2.0     0.20       1      1  \n",
       "\n",
       "[350 rows x 19 columns]"
      ]
     },
     "execution_count": 8,
     "metadata": {},
     "output_type": "execute_result"
    }
   ],
   "source": [
    "datos"
   ]
  },
  {
   "cell_type": "markdown",
   "metadata": {},
   "source": [
    "### Codificación de atributos categóricos"
   ]
  },
  {
   "cell_type": "code",
   "execution_count": 9,
   "metadata": {},
   "outputs": [],
   "source": [
    "#datos_one_hot = datos\n",
    "datos_one_hot = pd.get_dummies(datos, columns=['Ecografia'])\n",
    "#datos_one_hot = pd.get_dummies(datos, columns=['Sexo','Ecografia'])\n",
    "#datos_one_hot = pd.get_dummies(datos, columns=['Sexo','Ecografia','HTA','DM','DLP','APM','APQ','AcVHC','AcVHBc','Aminas'])\n",
    "#datos_one_hot = pd.get_dummies(datos, columns=['Sexo','Ecografia','DLP','AcVHC','AcVHBc'])\n",
    "#datos_one_hot = pd.get_dummies(datos, columns=['Ecografia','AcVHBc'])"
   ]
  },
  {
   "cell_type": "code",
   "execution_count": 10,
   "metadata": {},
   "outputs": [
    {
     "name": "stdout",
     "output_type": "stream",
     "text": [
      "<class 'pandas.core.frame.DataFrame'>\n",
      "RangeIndex: 350 entries, 0 to 349\n",
      "Data columns (total 21 columns):\n",
      "Edad           350 non-null int64\n",
      "Sexo           350 non-null int64\n",
      "IMC            350 non-null float64\n",
      "HTA            350 non-null int64\n",
      "DM             350 non-null int64\n",
      "DLP            350 non-null int64\n",
      "APM            350 non-null int64\n",
      "APQ            350 non-null int64\n",
      "GOT            350 non-null float64\n",
      "GPT            350 non-null int64\n",
      "GGT            350 non-null float64\n",
      "Na             350 non-null float64\n",
      "BbT            350 non-null float64\n",
      "AcVHC          350 non-null float64\n",
      "AcVHBc         350 non-null float64\n",
      "DosisNA        350 non-null float64\n",
      "Aminas         350 non-null int64\n",
      "class          350 non-null int64\n",
      "Ecografia_1    350 non-null uint8\n",
      "Ecografia_2    350 non-null uint8\n",
      "Ecografia_3    350 non-null uint8\n",
      "dtypes: float64(8), int64(10), uint8(3)\n",
      "memory usage: 50.4 KB\n"
     ]
    }
   ],
   "source": [
    "datos_one_hot.info()"
   ]
  },
  {
   "cell_type": "markdown",
   "metadata": {},
   "source": [
    "### Separación de atributos y objetivo"
   ]
  },
  {
   "cell_type": "code",
   "execution_count": 11,
   "metadata": {},
   "outputs": [],
   "source": [
    "#It's generally a good idea to randomly shuffle the data before starting to avoid any type of ordering in the data\n",
    "datos_shuffle=datos_one_hot.iloc[np.random.permutation(len(datos_one_hot))]\n",
    "y_shuffle = datos_shuffle['class']\n",
    "X_shuffle = datos_shuffle.drop(['class'],axis=1)"
   ]
  },
  {
   "cell_type": "code",
   "execution_count": 12,
   "metadata": {},
   "outputs": [
    {
     "name": "stdout",
     "output_type": "stream",
     "text": [
      "<class 'pandas.core.frame.DataFrame'>\n",
      "RangeIndex: 350 entries, 0 to 349\n",
      "Data columns (total 20 columns):\n",
      "Edad           350 non-null int64\n",
      "Sexo           350 non-null int64\n",
      "IMC            350 non-null float64\n",
      "HTA            350 non-null int64\n",
      "DM             350 non-null int64\n",
      "DLP            350 non-null int64\n",
      "APM            350 non-null int64\n",
      "APQ            350 non-null int64\n",
      "GOT            350 non-null float64\n",
      "GPT            350 non-null int64\n",
      "GGT            350 non-null float64\n",
      "Na             350 non-null float64\n",
      "BbT            350 non-null float64\n",
      "AcVHC          350 non-null float64\n",
      "AcVHBc         350 non-null float64\n",
      "DosisNA        350 non-null float64\n",
      "Aminas         350 non-null int64\n",
      "Ecografia_1    350 non-null uint8\n",
      "Ecografia_2    350 non-null uint8\n",
      "Ecografia_3    350 non-null uint8\n",
      "dtypes: float64(8), int64(9), uint8(3)\n",
      "memory usage: 47.6 KB\n",
      "None\n",
      "0    227\n",
      "1    123\n",
      "Name: class, dtype: int64\n"
     ]
    }
   ],
   "source": [
    "y = datos_one_hot['class']\n",
    "X = datos_one_hot.drop(['class'], axis=1)\n",
    "print(X.info())\n",
    "print(y.value_counts())"
   ]
  },
  {
   "cell_type": "markdown",
   "metadata": {},
   "source": [
    "## Funciones de evaluación"
   ]
  },
  {
   "cell_type": "code",
   "execution_count": 13,
   "metadata": {},
   "outputs": [],
   "source": [
    "def evalua_dataset(X,y,clasificador,matriz=False,cv=10):\n",
    "    y_pred = cross_val_predict(clasificador, X, y, cv=cv)\n",
    "    \n",
    "    acc =  metrics.accuracy_score(y, y_pred)\n",
    "    precision = metrics.precision_score(y, y_pred)\n",
    "    recall = metrics.recall_score(y, y_pred)\n",
    "    f1 = metrics.f1_score(y, y_pred)\n",
    "    print('accuracy: ',acc)\n",
    "    \n",
    "    class_rep = classification_report(y, y_pred)\n",
    "    \n",
    "    if matriz:\n",
    "        # Visualización de la matriz de confusión\n",
    "        print(class_rep)\n",
    "        labels = y.unique()\n",
    "        cm = metrics.confusion_matrix(y, y_pred, labels)\n",
    "        sns.heatmap(cm, annot=True, cmap='Greens', fmt='d', xticklabels=labels, yticklabels=labels)\n",
    "        plt.xlabel('Predictions')\n",
    "        plt.ylabel('Actual values')\n",
    "        plt.show()   \n",
    "    \n",
    "    return (acc,precision,recall,f1)"
   ]
  },
  {
   "cell_type": "code",
   "execution_count": 14,
   "metadata": {},
   "outputs": [],
   "source": [
    "def analisis_roc(X,y,clasificador,curva=False,cv=10):\n",
    "    y_proba = cross_val_predict(clasificador, X, y, cv=cv, method='predict_proba')\n",
    "    y_proba_clase1 =  pd.Series(y_proba[:,1])\n",
    "    fprs, tprs, umbrales = metrics.roc_curve(y, y_proba_clase1)\n",
    "    #print('FPRs: ', fprs[:5])\n",
    "    #print('TPRs:    ', tprs[:5])\n",
    "    #print('Umbrales:   ', umbrales[:5])\n",
    "    auc = metrics.auc(fprs,tprs)\n",
    "    print('auc: ', auc)\n",
    "\n",
    "    if curva:\n",
    "        plt.plot(fprs, tprs)\n",
    "        plt.xlim([0.0, 1.0])\n",
    "        plt.ylim([0.0, 1.0])\n",
    "        #plt.title('Curva ROC')\n",
    "        plt.xlabel('False Positive Rate (1 - specificity)')\n",
    "        plt.ylabel('True Positive Rate (sensitivity)')\n",
    "        plt.grid(True)\n",
    "        plt.show()\n",
    "    return auc"
   ]
  },
  {
   "cell_type": "markdown",
   "metadata": {},
   "source": [
    "## Mejor Pipeline obtenido con TPOT"
   ]
  },
  {
   "cell_type": "code",
   "execution_count": 15,
   "metadata": {
    "scrolled": true
   },
   "outputs": [],
   "source": [
    "pipeline_AUC_1 = make_pipeline(\n",
    "\n",
    "    make_union(\n",
    "        StackingEstimator(estimator=make_pipeline(\n",
    "            make_union(\n",
    "                make_union(\n",
    "                    FunctionTransformer(copy, validate=True),\n",
    "                    FunctionTransformer(copy, validate=True)\n",
    "                ),\n",
    "                StackingEstimator(estimator=BernoulliNB(alpha=10.0, fit_prior=False))\n",
    "            ),\n",
    "            XGBClassifier(learning_rate=0.001, max_depth=7, min_child_weight=9, n_estimators=100, nthread=1, subsample=0.4)\n",
    "        )),\n",
    "        FunctionTransformer(copy, validate=True)\n",
    "    ),\n",
    "    ZeroCount(),\n",
    "    SelectPercentile(score_func=f_classif, percentile=58),\n",
    "    XGBClassifier(learning_rate=0.5, max_depth=1, min_child_weight=6, n_estimators=100, nthread=1, subsample=0.7500000000000001)\n",
    ")\n"
   ]
  },
  {
   "cell_type": "code",
   "execution_count": null,
   "metadata": {},
   "outputs": [],
   "source": [
    "pipeline_AUC_3 = make_pipeline(\n",
    "\n",
    "    make_union(\n",
    "        StackingEstimator(estimator=make_pipeline(\n",
    "            make_union(\n",
    "                FunctionTransformer(copy, validate=True),               \n",
    "                StackingEstimator(estimator=BernoulliNB(alpha=10.0, fit_prior=False))\n",
    "            ),\n",
    "            XGBClassifier(learning_rate=0.001, max_depth=7, min_child_weight=9, n_estimators=100, nthread=1, subsample=0.4)\n",
    "        )),\n",
    "        FunctionTransformer(copy, validate=True)\n",
    "    ),\n",
    "    ZeroCount(),\n",
    "    SelectPercentile(score_func=f_classif, percentile=58),\n",
    "    XGBClassifier(learning_rate=0.5, max_depth=1, min_child_weight=6, n_estimators=100, nthread=1, subsample=0.7500000000000001)\n",
    ")"
   ]
  },
  {
   "cell_type": "code",
   "execution_count": null,
   "metadata": {},
   "outputs": [],
   "source": [
    "pipeline_AUC_2 = make_pipeline(\n",
    "\n",
    "    make_union(\n",
    "        StackingEstimator(estimator=make_pipeline(\n",
    "            StackingEstimator(estimator=BernoulliNB(alpha=10.0, fit_prior=False)),\n",
    "            XGBClassifier(learning_rate=0.001, max_depth=7, min_child_weight=9, n_estimators=100, nthread=1, subsample=0.4)\n",
    "        )),\n",
    "        FunctionTransformer(copy, validate=True)\n",
    "    ),\n",
    "    ZeroCount(),\n",
    "    SelectPercentile(score_func=f_classif, percentile=58),\n",
    "    XGBClassifier(learning_rate=0.5, max_depth=1, min_child_weight=6, n_estimators=100, nthread=1, subsample=0.7500000000000001)\n",
    ")"
   ]
  },
  {
   "cell_type": "markdown",
   "metadata": {},
   "source": [
    "### Cross Validation (CV=10)"
   ]
  },
  {
   "cell_type": "code",
   "execution_count": 16,
   "metadata": {},
   "outputs": [
    {
     "name": "stdout",
     "output_type": "stream",
     "text": [
      "accuracy:  0.7457142857142857\n",
      "auc:  0.7832814010959492\n"
     ]
    },
    {
     "data": {
      "text/plain": [
       "0.7832814010959492"
      ]
     },
     "execution_count": 16,
     "metadata": {},
     "output_type": "execute_result"
    }
   ],
   "source": [
    "evalua_dataset(X,y,pipeline_AUC_1)\n",
    "analisis_roc(X,y,pipeline_AUC_1)"
   ]
  },
  {
   "cell_type": "code",
   "execution_count": 17,
   "metadata": {},
   "outputs": [
    {
     "name": "stdout",
     "output_type": "stream",
     "text": [
      "accuracy:  0.7314285714285714\n",
      "auc:  0.7646574263099459\n"
     ]
    },
    {
     "data": {
      "text/plain": [
       "0.7646574263099459"
      ]
     },
     "execution_count": 17,
     "metadata": {},
     "output_type": "execute_result"
    }
   ],
   "source": [
    "evalua_dataset(X_shuffle,y_shuffle,pipeline_AUC_1)\n",
    "analisis_roc(X_shuffle,y_shuffle,pipeline_AUC_1)"
   ]
  },
  {
   "cell_type": "markdown",
   "metadata": {},
   "source": [
    "### Leave One Out Validation"
   ]
  },
  {
   "cell_type": "code",
   "execution_count": 18,
   "metadata": {},
   "outputs": [
    {
     "name": "stdout",
     "output_type": "stream",
     "text": [
      "accuracy:  0.7314285714285714\n",
      "              precision    recall  f1-score   support\n",
      "\n",
      "           0       0.75      0.88      0.81       227\n",
      "           1       0.67      0.46      0.55       123\n",
      "\n",
      "    accuracy                           0.73       350\n",
      "   macro avg       0.71      0.67      0.68       350\n",
      "weighted avg       0.72      0.73      0.72       350\n",
      "\n"
     ]
    },
    {
     "data": {
      "image/png": "[encoded data removed]",
      "text/plain": [
       "<Figure size 432x288 with 2 Axes>"
      ]
     },
     "metadata": {
      "needs_background": "light"
     },
     "output_type": "display_data"
    },
    {
     "name": "stdout",
     "output_type": "stream",
     "text": [
      "auc:  0.7787686687439561\n"
     ]
    },
    {
     "data": {
      "text/plain": [
       "0.7787686687439561"
      ]
     },
     "execution_count": 18,
     "metadata": {},
     "output_type": "execute_result"
    }
   ],
   "source": [
    "evalua_dataset(X,y,pipeline_AUC_1,matriz=True,cv=LeaveOneOut())\n",
    "analisis_roc(X,y,pipeline_AUC_1,cv=LeaveOneOut())"
   ]
  },
  {
   "cell_type": "code",
   "execution_count": null,
   "metadata": {},
   "outputs": [],
   "source": [
    "evalua_dataset(X_shuffle,y_shuffle,pipeline_AUC_1,matriz=True,cv=LeaveOneOut())\n",
    "analisis_roc(X_shuffle,y_shuffle,pipeline_AUC_1,curva=True,cv=LeaveOneOut())"
   ]
  },
  {
   "cell_type": "markdown",
   "metadata": {},
   "source": [
    "### Iteraciones con shuffle - Leave One Out"
   ]
  },
  {
   "cell_type": "code",
   "execution_count": 62,
   "metadata": {},
   "outputs": [
    {
     "name": "stdout",
     "output_type": "stream",
     "text": [
      "Iteracion  0 : \n",
      "accuracy:  0.7485714285714286\n",
      "auc:  0.795100462017836\n",
      "Iteracion  1 : \n",
      "accuracy:  0.7228571428571429\n",
      "auc:  0.7704236954263816\n",
      "Iteracion  2 : \n",
      "accuracy:  0.7542857142857143\n",
      "auc:  0.7876866874395616\n",
      "Iteracion  3 : \n",
      "accuracy:  0.72\n",
      "auc:  0.7703878800902546\n",
      "Iteracion  4 : \n",
      "accuracy:  0.7457142857142857\n",
      "auc:  0.7906951756742236\n",
      "Iteracion  5 : \n",
      "accuracy:  0.7314285714285714\n",
      "auc:  0.7812041116005873\n",
      "Iteracion  6 : \n",
      "accuracy:  0.74\n",
      "auc:  0.7967837828158018\n",
      "Iteracion  7 : \n",
      "accuracy:  0.7342857142857143\n",
      "auc:  0.7894416389097811\n",
      "Iteracion  8 : \n",
      "accuracy:  0.7485714285714286\n",
      "auc:  0.7916263744135239\n",
      "Iteracion  9 : \n",
      "accuracy:  0.7342857142857143\n",
      "auc:  0.7813115576089682\n",
      "Iteracion  10 : \n",
      "accuracy:  0.7371428571428571\n",
      "auc:  0.7815264496257297\n",
      "Iteracion  11 : \n",
      "accuracy:  0.7257142857142858\n",
      "auc:  0.7642992729486766\n",
      "Iteracion  12 : \n",
      "accuracy:  0.7342857142857143\n",
      "auc:  0.7768346405931019\n",
      "Iteracion  13 : \n",
      "accuracy:  0.7342857142857143\n",
      "auc:  0.786970380717023\n",
      "Iteracion  14 : \n",
      "accuracy:  0.7342857142857143\n",
      "auc:  0.77884029941621\n",
      "Iteracion  15 : \n",
      "accuracy:  0.7428571428571429\n",
      "auc:  0.7746857204254862\n",
      "Iteracion  16 : \n",
      "accuracy:  0.7457142857142857\n",
      "auc:  0.7846423838687726\n",
      "Iteracion  17 : \n",
      "accuracy:  0.7428571428571429\n",
      "auc:  0.7904444683213352\n",
      "Iteracion  18 : \n",
      "accuracy:  0.7428571428571429\n",
      "auc:  0.7878657641201962\n",
      "Iteracion  19 : \n",
      "accuracy:  0.74\n",
      "auc:  0.7807743275670642\n",
      "Iteracion  20 : \n",
      "accuracy:  0.7342857142857143\n",
      "auc:  0.7800222055083987\n",
      "Iteracion  21 : \n",
      "accuracy:  0.7371428571428571\n",
      "auc:  0.7784821460549408\n",
      "Iteracion  22 : \n",
      "accuracy:  0.7342857142857143\n",
      "auc:  0.7815622649618567\n",
      "Iteracion  23 : \n",
      "accuracy:  0.7485714285714286\n",
      "auc:  0.7802370975251602\n",
      "Iteracion  24 : \n",
      "accuracy:  0.7285714285714285\n",
      "auc:  0.784391676515884\n",
      "Iteracion  25 : \n",
      "accuracy:  0.7257142857142858\n",
      "auc:  0.7736112603416783\n",
      "Iteracion  26 : \n",
      "accuracy:  0.7285714285714285\n",
      "auc:  0.7626517674868378\n",
      "Iteracion  27 : \n",
      "accuracy:  0.7314285714285714\n",
      "auc:  0.7820994950037605\n",
      "Iteracion  28 : \n",
      "accuracy:  0.7571428571428571\n",
      "auc:  0.792091973783174\n",
      "Iteracion  29 : \n",
      "accuracy:  0.7428571428571429\n",
      "auc:  0.780845958239318\n",
      "Iteracion  30 : \n",
      "accuracy:  0.7342857142857143\n",
      "auc:  0.7758676265176749\n",
      "Iteracion  31 : \n",
      "accuracy:  0.7171428571428572\n",
      "auc:  0.7718204935353319\n",
      "Iteracion  32 : \n",
      "accuracy:  0.7514285714285714\n",
      "auc:  0.7794849754664948\n",
      "Iteracion  33 : \n",
      "accuracy:  0.7371428571428571\n",
      "auc:  0.7835321084488378\n",
      "Iteracion  34 : \n",
      "accuracy:  0.7371428571428571\n",
      "auc:  0.7949930160094553\n",
      "Iteracion  35 : \n",
      "accuracy:  0.7171428571428572\n",
      "auc:  0.7730023996275205\n",
      "Iteracion  36 : \n",
      "accuracy:  0.7342857142857143\n",
      "auc:  0.7728949536191396\n",
      "Iteracion  37 : \n",
      "accuracy:  0.7428571428571429\n",
      "auc:  0.7852870599190573\n",
      "Iteracion  38 : \n",
      "accuracy:  0.7285714285714285\n",
      "auc:  0.7635471508900111\n",
      "Iteracion  39 : \n",
      "accuracy:  0.7371428571428571\n",
      "auc:  0.7756169191647864\n",
      "Iteracion  40 : \n",
      "accuracy:  0.7285714285714285\n",
      "auc:  0.779377529458114\n",
      "Iteracion  41 : \n",
      "accuracy:  0.7485714285714286\n",
      "auc:  0.7822785716843952\n",
      "Iteracion  42 : \n",
      "accuracy:  0.7314285714285714\n",
      "auc:  0.7912324057161276\n",
      "Iteracion  43 : \n",
      "accuracy:  0.7428571428571429\n",
      "auc:  0.7788044840800831\n",
      "Iteracion  44 : \n",
      "accuracy:  0.7428571428571429\n",
      "auc:  0.7778374700046559\n",
      "Iteracion  45 : \n",
      "accuracy:  0.7428571428571429\n",
      "auc:  0.7850005372300418\n",
      "Iteracion  46 : \n",
      "accuracy:  0.7428571428571429\n",
      "auc:  0.7901579456323198\n",
      "Iteracion  47 : \n",
      "accuracy:  0.7542857142857143\n",
      "auc:  0.7827441710540455\n",
      "Iteracion  48 : \n",
      "accuracy:  0.7142857142857143\n",
      "auc:  0.7785179613910677\n",
      "Iteracion  49 : \n",
      "accuracy:  0.7457142857142857\n",
      "auc:  0.7872927187421654\n",
      "Iteracion  50 : \n",
      "accuracy:  0.7257142857142858\n",
      "auc:  0.7760467031983095\n",
      "Iteracion  51 : \n",
      "accuracy:  0.7371428571428571\n",
      "auc:  0.7880806561369579\n",
      "Iteracion  52 : \n",
      "accuracy:  0.7314285714285714\n",
      "auc:  0.778876114752337\n",
      "Iteracion  53 : \n",
      "accuracy:  0.7485714285714286\n",
      "auc:  0.7895490849181619\n",
      "Iteracion  54 : \n",
      "accuracy:  0.7114285714285714\n",
      "auc:  0.7767271945847212\n",
      "Iteracion  55 : \n",
      "accuracy:  0.7285714285714285\n",
      "auc:  0.7787686687439561\n",
      "Iteracion  56 : \n",
      "accuracy:  0.7314285714285714\n",
      "auc:  0.7897639769349236\n",
      "Iteracion  57 : \n",
      "accuracy:  0.76\n",
      "auc:  0.7880090254647041\n",
      "Iteracion  58 : \n",
      "accuracy:  0.7457142857142857\n",
      "auc:  0.7790193760968446\n",
      "Iteracion  59 : \n",
      "accuracy:  0.72\n",
      "auc:  0.7845707531965187\n",
      "Iteracion  60 : \n",
      "accuracy:  0.7571428571428571\n",
      "auc:  0.7828516170624261\n",
      "Iteracion  61 : \n",
      "accuracy:  0.7257142857142858\n",
      "auc:  0.7792700834497333\n",
      "Iteracion  62 : \n",
      "accuracy:  0.7342857142857143\n",
      "auc:  0.772250277568855\n",
      "Iteracion  63 : \n",
      "accuracy:  0.7257142857142858\n",
      "auc:  0.7895490849181619\n",
      "Iteracion  64 : \n",
      "accuracy:  0.7457142857142857\n",
      "auc:  0.7791984527774792\n",
      "Iteracion  65 : \n",
      "accuracy:  0.7257142857142858\n",
      "auc:  0.778338884710433\n",
      "Iteracion  66 : \n",
      "accuracy:  0.7342857142857143\n",
      "auc:  0.7882597328175924\n",
      "Iteracion  67 : \n",
      "accuracy:  0.74\n",
      "auc:  0.778876114752337\n",
      "Iteracion  68 : \n",
      "accuracy:  0.76\n",
      "auc:  0.7856452132803267\n",
      "Iteracion  69 : \n",
      "accuracy:  0.7257142857142858\n",
      "auc:  0.7802729128612873\n",
      "Iteracion  70 : \n",
      "accuracy:  0.7257142857142858\n",
      "auc:  0.7755094731564056\n",
      "Iteracion  71 : \n",
      "accuracy:  0.7428571428571429\n",
      "auc:  0.7731098456359012\n",
      "Iteracion  72 : \n",
      "accuracy:  0.7371428571428571\n",
      "auc:  0.7842842305075033\n",
      "Iteracion  73 : \n",
      "accuracy:  0.7485714285714286\n",
      "auc:  0.8015472225206834\n",
      "Iteracion  74 : \n",
      "accuracy:  0.7342857142857143\n",
      "auc:  0.7896565309265428\n",
      "Iteracion  75 : \n",
      "accuracy:  0.7371428571428571\n",
      "auc:  0.794634862648186\n",
      "Iteracion  76 : \n",
      "accuracy:  0.7428571428571429\n",
      "auc:  0.7833530317682031\n",
      "Iteracion  77 : \n",
      "accuracy:  0.7428571428571429\n",
      "auc:  0.7781239926936714\n",
      "Iteracion  78 : \n",
      "accuracy:  0.7457142857142857\n",
      "auc:  0.7842842305075033\n",
      "Iteracion  79 : \n",
      "accuracy:  0.7485714285714286\n",
      "auc:  0.7848572758855341\n",
      "Iteracion  80 : \n",
      "accuracy:  0.72\n",
      "auc:  0.7680956985781311\n",
      "Iteracion  81 : \n",
      "accuracy:  0.7371428571428571\n",
      "auc:  0.777300239962752\n",
      "Iteracion  82 : \n",
      "accuracy:  0.74\n",
      "auc:  0.790480283657462\n",
      "Iteracion  83 : \n",
      "accuracy:  0.7514285714285714\n",
      "auc:  0.7808817735754451\n",
      "Iteracion  84 : \n",
      "accuracy:  0.74\n",
      "auc:  0.7787328534078293\n",
      "Iteracion  85 : \n",
      "accuracy:  0.7542857142857143\n",
      "auc:  0.7805952508864296\n",
      "Iteracion  86 : \n",
      "accuracy:  0.7342857142857143\n",
      "auc:  0.7796282368110024\n",
      "Iteracion  87 : \n",
      "accuracy:  0.7257142857142858\n",
      "auc:  0.7790193760968446\n",
      "Iteracion  88 : \n",
      "accuracy:  0.7485714285714286\n",
      "auc:  0.7829590630708069\n",
      "Iteracion  89 : \n",
      "accuracy:  0.7342857142857143\n",
      "auc:  0.7773718706350059\n",
      "Iteracion  90 : \n",
      "accuracy:  0.7457142857142857\n",
      "auc:  0.7865764120196269\n",
      "Iteracion  91 : \n",
      "accuracy:  0.7457142857142857\n",
      "auc:  0.7840693384907418\n",
      "Iteracion  92 : \n",
      "accuracy:  0.7571428571428571\n",
      "auc:  0.7775867626517674\n",
      "Iteracion  93 : \n",
      "accuracy:  0.7371428571428571\n",
      "auc:  0.7877583181118154\n",
      "Iteracion  94 : \n",
      "accuracy:  0.7371428571428571\n",
      "auc:  0.7862540739944845\n",
      "Iteracion  95 : \n",
      "accuracy:  0.7514285714285714\n",
      "auc:  0.7954944307152323\n",
      "Iteracion  96 : \n",
      "accuracy:  0.7342857142857143\n",
      "auc:  0.7726800616023781\n",
      "Iteracion  97 : \n",
      "accuracy:  0.74\n",
      "auc:  0.7967479674796748\n",
      "Iteracion  98 : \n",
      "accuracy:  0.7342857142857143\n",
      "auc:  0.782421833028903\n",
      "Iteracion  99 : \n",
      "accuracy:  0.7371428571428571\n",
      "auc:  0.775258765803517\n",
      "Media accuracy para LOOCV:  0.7378571428571427\n",
      "Media area under curve para LOOCV:  0.7820002865226889\n",
      "Media precision para LOOCV:  0.6633182858833852\n",
      "Media recall para LOOCV:  0.5165853658536591\n",
      "Media F1 para LOOCV:  0.5805918168420168\n",
      "Mejor shuffle: \n",
      "ACC:  0.7485714285714286\n",
      "AUC:  0.8015472225206834\n",
      "PRECISION:  0.6842105263157895\n",
      "RECALL:  0.5284552845528455\n",
      "F1-SCORE:  0.5963302752293578\n"
     ]
    }
   ],
   "source": [
    "suma_acc=0\n",
    "suma_auc=0\n",
    "suma_precision = 0\n",
    "suma_recall = 0\n",
    "suma_f1 = 0\n",
    "n=100\n",
    "pos_mejor_shuffle = 0\n",
    "lista_shuffles = []\n",
    "for i in range(n):\n",
    "    datos_shuffle=datos_one_hot.iloc[np.random.permutation(len(datos_one_hot))]\n",
    "    y_shuffle = datos_shuffle['class']\n",
    "    X_shuffle = datos_shuffle.drop(['class'],axis=1)\n",
    "    \n",
    "    print(\"Iteracion \", i, \": \")\n",
    "    \n",
    "    scores = evalua_dataset(X_shuffle,y_shuffle,pipeline_AUC_1,cv=LeaveOneOut())\n",
    "    acc = scores[0]\n",
    "    auc = analisis_roc(X_shuffle,y_shuffle,pipeline_AUC_1,cv=LeaveOneOut())\n",
    "    \n",
    "    lista_shuffles.append((datos_shuffle,scores,auc))\n",
    "    \n",
    "    if i==0 or (acc>= lista_shuffles[pos_mejor_shuffle][1][0] and auc>=lista_shuffles[pos_mejor_shuffle][2]):\n",
    "        pos_mejor_shuffle = i\n",
    "    \n",
    "    suma_acc += scores[0]\n",
    "    suma_auc += auc    \n",
    "    suma_precision += scores[1]\n",
    "    suma_recall += scores[2]\n",
    "    suma_f1 += scores[3]   \n",
    "    \n",
    "\n",
    "media_acc = suma_acc/n\n",
    "media_auc = suma_auc/n\n",
    "media_prec = suma_precision/n\n",
    "media_rec = suma_recall/n\n",
    "media_f1 = suma_f1/n\n",
    "print(\"Media accuracy para LOOCV: \", media_acc)\n",
    "print(\"Media area under curve para LOOCV: \", media_auc)\n",
    "print(\"Media precision para LOOCV: \", media_prec)\n",
    "print(\"Media recall para LOOCV: \", media_rec)\n",
    "print(\"Media F1 para LOOCV: \", media_f1)\n",
    "    \n",
    "\n",
    "print(\"Mejor shuffle: \")\n",
    "print(\"ACC: \", lista_shuffles[pos_mejor_shuffle][1][0])\n",
    "print(\"AUC: \", lista_shuffles[pos_mejor_shuffle][2])\n",
    "print(\"PRECISION: \", lista_shuffles[pos_mejor_shuffle][1][1])\n",
    "print(\"RECALL: \", lista_shuffles[pos_mejor_shuffle][1][2])\n",
    "print(\"F1-SCORE: \", lista_shuffles[pos_mejor_shuffle][1][3])\n"
   ]
  },
  {
   "cell_type": "markdown",
   "metadata": {},
   "source": [
    "#### Validación del mejor reordenamiento"
   ]
  },
  {
   "cell_type": "code",
   "execution_count": 63,
   "metadata": {},
   "outputs": [],
   "source": [
    "mejor_shuffle = lista_shuffles[pos_mejor_shuffle][0]\n",
    "y_mejor_shuffle = mejor_shuffle['class']\n",
    "X_mejor_shuffle = mejor_shuffle.drop(['class'],axis=1)"
   ]
  },
  {
   "cell_type": "code",
   "execution_count": 64,
   "metadata": {},
   "outputs": [
    {
     "name": "stdout",
     "output_type": "stream",
     "text": [
      "accuracy:  0.7485714285714286\n",
      "              precision    recall  f1-score   support\n",
      "\n",
      "           0       0.77      0.87      0.82       227\n",
      "           1       0.68      0.53      0.60       123\n",
      "\n",
      "    accuracy                           0.75       350\n",
      "   macro avg       0.73      0.70      0.71       350\n",
      "weighted avg       0.74      0.75      0.74       350\n",
      "\n"
     ]
    },
    {
     "data": {
      "image/png": "[encoded data removed]",
      "text/plain": [
       "<Figure size 432x288 with 2 Axes>"
      ]
     },
     "metadata": {
      "needs_background": "light"
     },
     "output_type": "display_data"
    },
    {
     "name": "stdout",
     "output_type": "stream",
     "text": [
      "auc:  0.8015472225206834\n"
     ]
    },
    {
     "data": {
      "image/png": "[encoded data removed]",
      "text/plain": [
       "<Figure size 432x288 with 1 Axes>"
      ]
     },
     "metadata": {
      "needs_background": "light"
     },
     "output_type": "display_data"
    },
    {
     "data": {
      "text/plain": [
       "0.8015472225206834"
      ]
     },
     "execution_count": 64,
     "metadata": {},
     "output_type": "execute_result"
    }
   ],
   "source": [
    "evalua_dataset(X_mejor_shuffle,y_mejor_shuffle,pipeline_AUC_1,matriz=True,cv=LeaveOneOut())\n",
    "analisis_roc(X_mejor_shuffle,y_mejor_shuffle,pipeline_AUC_1,curva=True,cv=LeaveOneOut())"
   ]
  },
  {
   "cell_type": "code",
   "execution_count": null,
   "metadata": {},
   "outputs": [],
   "source": [
    "y_proba = cross_val_predict(pipeline_AUC_1, X_mejor_shuffle, y_mejor_shuffle, cv=LeaveOneOut(), method='predict_proba')\n",
    "y_proba_clase1 =  pd.Series(y_proba[:,1])\n",
    "fprs, tprs, umbrales = metrics.roc_curve(y_mejor_shuffle, y_proba_clase1)\n",
    "\n",
    "plt.plot(fprs, tprs)\n",
    "plt.xlim([0.0, 1.0])\n",
    "plt.ylim([0.0, 1.0])\n",
    "#plt.title('Curva ROC')\n",
    "plt.xlabel('False Positive Rate (1 - specificity)')\n",
    "plt.ylabel('True Positive Rate (sensitivity)')\n",
    "plt.grid(True)\n",
    "plt.show()\n",
    "plt.savefig('RocCurve.png')"
   ]
  },
  {
   "cell_type": "code",
   "execution_count": null,
   "metadata": {},
   "outputs": [],
   "source": [
    "y_pred = cross_val_predict(pipeline_AUC_1, X_mejor_shuffle, y_mejor_shuffle, cv=LeaveOneOut())\n",
    "    \n",
    "acc =  metrics.accuracy_score(y_mejor_shuffle, y_pred)\n",
    "precision = metrics.precision_score(y_mejor_shuffle, y_pred)\n",
    "recall = metrics.recall_score(y_mejor_shuffle, y_pred)\n",
    "f1 = metrics.f1_score(y_mejor_shuffle, y_pred)\n",
    "\n",
    "class_rep = classification_report(y_mejor_shuffle, y_pred)\n",
    "    \n",
    "# Visualización de la matriz de confusión\n",
    "#print(class_rep)\n",
    "labels = y_mejor_shuffle.unique()\n",
    "cm = metrics.confusion_matrix(y_mejor_shuffle, y_pred, labels)\n",
    "sns.heatmap(cm, annot=True, cmap='Greens', fmt='d', xticklabels=labels, yticklabels=labels)\n",
    "plt.xlabel('Predictions')\n",
    "plt.ylabel('Actual values')\n",
    "plt.show()\n",
    "plt.savefig('consufionMatrix.png')"
   ]
  },
  {
   "cell_type": "markdown",
   "metadata": {},
   "source": [
    "#### Tabla de probabilidades para el mejor resultado"
   ]
  },
  {
   "cell_type": "code",
   "execution_count": null,
   "metadata": {},
   "outputs": [],
   "source": [
    "#y_pred = cross_val_predict(pipeline_AUC_1, X_mejor_shuffle, y_mejor_shuffle, cv=LeaveOneOut())\n",
    "#metrics.accuracy_score(y_mejor_shuffle, y_pred)\n",
    "#classification_report(y_mejor_shuffle, y_pred)\n",
    "\n",
    "y_proba = cross_val_predict(pipeline_AUC_1, X_mejor_shuffle, y_mejor_shuffle, cv=LeaveOneOut(), method='predict_proba')\n",
    "print(y_proba)\n",
    "len(y_proba)\n",
    "#y_proba_clase1 =  pd.Series(y_proba[:,1])"
   ]
  },
  {
   "cell_type": "code",
   "execution_count": null,
   "metadata": {},
   "outputs": [],
   "source": [
    "#print(type(y_mejor_shuffle.values))\n",
    "#print(y_mejor_shuffle.values)\n",
    "#print(y_mejor_shuffle[0])\n",
    "\n",
    "lista_tuplas = []\n",
    "cuenta_ciertos = 0\n",
    "cuenta_falsos = 0\n",
    "for i in range(len(y_proba)):\n",
    "    if y_proba[i][0]>0.5 and y_mejor_shuffle.values[i]==0:#clase 0 correcta\n",
    "        lista_tuplas.append((0,y_proba[i][0],True))\n",
    "        cuenta_ciertos +=1\n",
    "    if y_proba[i][0]>0.5 and y_mejor_shuffle.values[i]==1:#clase 0 incorrecta\n",
    "        lista_tuplas.append((0,y_proba[i][0],False))\n",
    "        cuenta_falsos +=1\n",
    "    if y_proba[i][1]>0.5 and y_mejor_shuffle.values[i]==1:#clase 1 correcta\n",
    "        lista_tuplas.append((1,y_proba[i][1],True))\n",
    "        cuenta_ciertos +=1\n",
    "    if y_proba[i][1]>0.5 and y_mejor_shuffle.values[i]==0:#clase 1 incorrecta\n",
    "        lista_tuplas.append((1,y_proba[i][1],False))\n",
    "        cuenta_falsos +=1\n",
    "        \n",
    "print(\"ciertos; \", cuenta_ciertos)\n",
    "print(\"falsos: \", cuenta_falsos)\n",
    "        \n",
    "print(lista_tuplas)        \n",
    "\n",
    "dicc = {\"0.5-0.59\":[0,0],\"0.6-0.69\":[0,0],\"0.7-0.79\":[0,0],\"0.8-0.89\":[0,0],\"0.9-\":[0,0]}\n",
    "for tupla in lista_tuplas:\n",
    "    if tupla[1]>=0.9:\n",
    "        dicc[\"0.9-\"][0] +=1\n",
    "        if tupla[2]==False:\n",
    "            dicc[\"0.9-\"][1] +=1\n",
    "    elif tupla[1]>=0.8:\n",
    "        dicc[\"0.8-0.89\"][0] +=1\n",
    "        if tupla[2]==False:\n",
    "            dicc[\"0.8-0.89\"][1] +=1    \n",
    "    elif tupla[1]>=0.7:\n",
    "        dicc[\"0.7-0.79\"][0] +=1\n",
    "        if tupla[2]==False:\n",
    "            dicc[\"0.7-0.79\"][1] +=1    \n",
    "    elif tupla[1]>=0.6:\n",
    "        dicc[\"0.6-0.69\"][0] +=1\n",
    "        if tupla[2]==False:\n",
    "            dicc[\"0.6-0.69\"][1] +=1        \n",
    "    elif tupla[1]>=0.5:\n",
    "        dicc[\"0.5-0.59\"][0] +=1\n",
    "        if tupla[2]==False:\n",
    "            dicc[\"0.5-0.59\"][1] +=1\n",
    "\n",
    "print(dicc)\n",
    "    "
   ]
  },
  {
   "cell_type": "markdown",
   "metadata": {},
   "source": [
    "#### Gráfica de barras"
   ]
  },
  {
   "cell_type": "code",
   "execution_count": null,
   "metadata": {},
   "outputs": [],
   "source": [
    "from matplotlib import pyplot as plt\n",
    "\n",
    "idx_clase1 = np.where(y_mejor_shuffle == 1)[0]\n",
    "idx_clase0 = np.where(y_mejor_shuffle == 0)[0]\n",
    "\n",
    "#y_proba = pipeline_AUC_1.predict_proba(X_mejor_shuffle)\n",
    "\n",
    "# Histogram predictions without error bars:\n",
    "fig, ax = plt.subplots(1)\n",
    "ax.hist(y_proba[idx_clase1, 1], histtype='step', label='not valid')\n",
    "ax.hist(y_proba[idx_clase0, 1], histtype='step', label='valid')\n",
    "ax.set_xlabel('Prediction (not valid probability)')\n",
    "ax.set_ylabel('Number of observations')\n",
    "plt.legend()"
   ]
  },
  {
   "cell_type": "markdown",
   "metadata": {},
   "source": [
    "### 100 iteraciones con shuffle para cv10 y Train/Test"
   ]
  },
  {
   "cell_type": "code",
   "execution_count": null,
   "metadata": {},
   "outputs": [],
   "source": [
    "suma_acc=0\n",
    "suma_auc=0\n",
    "suma_precision = 0\n",
    "suma_recall = 0\n",
    "suma_f1 = 0\n",
    "n=100\n",
    "\n",
    "for i in range(n):\n",
    "    datos_shuffle=datos_one_hot.iloc[np.random.permutation(len(datos_one_hot))]\n",
    "    y_shuffle = datos_shuffle['class']\n",
    "    X_shuffle = datos_shuffle.drop(['class'],axis=1)\n",
    "    \n",
    "    print(\"Iteracion \", i, \": \")\n",
    "    \n",
    "    scores = evalua_dataset(X_shuffle,y_shuffle,pipeline_AUC_1,cv=10)\n",
    "    auc = analisis_roc(X_shuffle,y_shuffle,pipeline_AUC_1,cv=10)\n",
    "    \n",
    "    suma_acc += scores[0]\n",
    "    suma_auc += auc    \n",
    "    suma_precision += scores[1]\n",
    "    suma_recall += scores[2]\n",
    "    suma_f1 += scores[3]\n",
    "    \n",
    "\n",
    "media_acc = suma_acc/n\n",
    "media_auc = suma_auc/n\n",
    "media_prec = suma_precision/n\n",
    "media_rec = suma_recall/n\n",
    "media_f1 = suma_f1/n\n",
    "print(\"Media accuracy para cv=10: \", media_acc)\n",
    "print(\"Media area under curve para cv=10: \", media_auc)\n",
    "print(\"Media precision para cv=10: \", media_prec)\n",
    "print(\"Media recall para cv=10: \", media_rec)\n",
    "print(\"Media F1 para cv=10: \", media_f1)\n"
   ]
  },
  {
   "cell_type": "code",
   "execution_count": null,
   "metadata": {},
   "outputs": [],
   "source": [
    "suma_acc=0\n",
    "suma_auc=0\n",
    "suma_precision = 0\n",
    "suma_recall = 0\n",
    "suma_f1 = 0\n",
    "n=100\n",
    "\n",
    "for i in range(n):\n",
    "    datos_shuffle=datos_one_hot.iloc[np.random.permutation(len(datos_one_hot))]\n",
    "    y_shuffle = datos_shuffle['class']\n",
    "    X_shuffle = datos_shuffle.drop(['class'],axis=1)\n",
    "    X_train, X_test, y_train, y_test = train_test_split(X_shuffle, y_shuffle, test_size=0.20)\n",
    "    \n",
    "    #print(\"Iteracion \", i, \": \")\n",
    "    \n",
    "    pipeline_AUC_1.fit(X_train,y_train)\n",
    "    y_test_pred = pipeline_AUC_1.predict(X_test)\n",
    "    acc = metrics.accuracy_score(y_test, y_test_pred)\n",
    "    \n",
    "    y_test_proba = pipeline_AUC_1.predict_proba(X_test)\n",
    "    y_proba_clase1 =  pd.Series(y_test_proba[:,1])\n",
    "    fprs, tprs, umbrales = metrics.roc_curve(y_test, y_proba_clase1)\n",
    "    auc = metrics.auc(fprs,tprs)\n",
    "    \n",
    "    suma_acc += acc\n",
    "    suma_auc += auc  \n",
    "    suma_precision += metrics.precision_score(y_test, y_test_pred)\n",
    "    suma_recall += metrics.recall_score(y_test, y_test_pred)\n",
    "    suma_f1 += metrics.f1_score(y_test, y_test_pred)\n",
    "    \n",
    "\n",
    "media_acc = suma_acc/n\n",
    "media_auc = suma_auc/n\n",
    "media_prec = suma_precision/n\n",
    "media_rec = suma_recall/n\n",
    "media_f1 = suma_f1/n\n",
    "print(\"Media accuracy para Train/Test: \", media_acc)\n",
    "print(\"Media area under curve para Train/Test: \", media_auc)\n",
    "print(\"Media precision para Train/Test: \", media_prec)\n",
    "print(\"Media recall para Train/Test: \", media_rec)\n",
    "print(\"Media F1 para Train/Test: \", media_f1)\n"
   ]
  },
  {
   "cell_type": "markdown",
   "metadata": {},
   "source": [
    "### 100 iteraciones con shuffle para cv5 y dataset completo"
   ]
  },
  {
   "cell_type": "code",
   "execution_count": null,
   "metadata": {},
   "outputs": [],
   "source": [
    "suma_acc=0\n",
    "suma_auc=0\n",
    "suma_precision = 0\n",
    "suma_recall = 0\n",
    "suma_f1 = 0\n",
    "n=100\n",
    "\n",
    "for i in range(n):\n",
    "    datos_shuffle=datos_one_hot.iloc[np.random.permutation(len(datos_one_hot))]\n",
    "    y_shuffle = datos_shuffle['class']\n",
    "    X_shuffle = datos_shuffle.drop(['class'],axis=1)\n",
    "    \n",
    "    print(\"Iteracion \", i, \": \")\n",
    "    \n",
    "    scores = evalua_dataset(X_shuffle,y_shuffle,pipeline_AUC_1,cv=5)\n",
    "    auc = analisis_roc(X_shuffle,y_shuffle,pipeline_AUC_1,cv=5)\n",
    "    \n",
    "    suma_acc += scores[0]\n",
    "    suma_auc += auc    \n",
    "    suma_precision += scores[1]\n",
    "    suma_recall += scores[2]\n",
    "    suma_f1 += scores[3]\n",
    "    \n",
    "\n",
    "media_acc = suma_acc/n\n",
    "media_auc = suma_auc/n\n",
    "media_prec = suma_precision/n\n",
    "media_rec = suma_recall/n\n",
    "media_f1 = suma_f1/n\n",
    "print(\"Media accuracy para cv=5: \", media_acc)\n",
    "print(\"Media area under curve para cv=5: \", media_auc)\n",
    "print(\"Media precision para cv=5: \", media_prec)\n",
    "print(\"Media recall para cv=5: \", media_rec)\n",
    "print(\"Media F1 para cv=5: \", media_f1)"
   ]
  },
  {
   "cell_type": "code",
   "execution_count": null,
   "metadata": {},
   "outputs": [],
   "source": [
    "suma_acc=0\n",
    "suma_auc=0\n",
    "suma_precision = 0\n",
    "suma_recall = 0\n",
    "suma_f1 = 0\n",
    "n=100\n",
    "\n",
    "for i in range(n):\n",
    "    datos_shuffle=datos_one_hot.iloc[np.random.permutation(len(datos_one_hot))]\n",
    "    y_shuffle = datos_shuffle['class']\n",
    "    X_shuffle = datos_shuffle.drop(['class'],axis=1)\n",
    "    \n",
    "    #print(\"Iteracion \", i, \": \")\n",
    "    \n",
    "    pipeline_AUC_1.fit(X_shuffle,y_shuffle)\n",
    "    y_test_pred = pipeline_AUC_1.predict(X_shuffle)\n",
    "    acc = metrics.accuracy_score(y_shuffle, y_test_pred)\n",
    "    \n",
    "    y_test_proba = pipeline_AUC_1.predict_proba(X_shuffle)\n",
    "    y_proba_clase1 =  pd.Series(y_test_proba[:,1])\n",
    "    fprs, tprs, umbrales = metrics.roc_curve(y_shuffle, y_proba_clase1)\n",
    "    auc = metrics.auc(fprs,tprs)\n",
    "    \n",
    "    suma_acc += acc\n",
    "    suma_auc += auc  \n",
    "    suma_precision += metrics.precision_score(y_shuffle, y_test_pred)\n",
    "    suma_recall += metrics.recall_score(y_shuffle, y_test_pred)\n",
    "    suma_f1 += metrics.f1_score(y_shuffle, y_test_pred)\n",
    "    print(\"   auc: \", auc)\n",
    "    print(\"   acc: \", acc)\n",
    "    \n",
    "    \n",
    "\n",
    "media_acc = suma_acc/n\n",
    "media_auc = suma_auc/n\n",
    "media_prec = suma_precision/n\n",
    "media_rec = suma_recall/n\n",
    "media_f1 = suma_f1/n\n",
    "print(\"Media accuracy para dataset completo: \", media_acc)\n",
    "print(\"Media area under curve para dataset completo: \", media_auc)\n",
    "print(\"Media precision para dataset completo: \", media_prec)\n",
    "print(\"Media recall para dataset completo: \", media_rec)\n",
    "print(\"Media F1 para dataset completo: \", media_f1)"
   ]
  },
  {
   "cell_type": "markdown",
   "metadata": {},
   "source": [
    "### Obtención de atributos más relevantes"
   ]
  },
  {
   "cell_type": "code",
   "execution_count": 28,
   "metadata": {},
   "outputs": [
    {
     "name": "stdout",
     "output_type": "stream",
     "text": [
      "4\n",
      "('xgbclassifier', XGBClassifier(base_score=0.5, booster='gbtree', colsample_bylevel=1,\n",
      "              colsample_bytree=1, gamma=0, learning_rate=0.5, max_delta_step=0,\n",
      "              max_depth=1, min_child_weight=6, missing=None, n_estimators=100,\n",
      "              n_jobs=1, nthread=1, objective='binary:logistic', random_state=0,\n",
      "              reg_alpha=0, reg_lambda=1, scale_pos_weight=1, seed=None,\n",
      "              silent=True, subsample=0.7500000000000001))\n",
      "[0.04686003 0.         0.23808002 0.04357238 0.04676147 0.05811144\n",
      " 0.06746078 0.06832759 0.07049187 0.05123972 0.0447519  0.04776958\n",
      " 0.15912203 0.05745119 0.         0.         0.         0.\n",
      " 0.         0.         0.         0.         0.         0.\n",
      " 0.        ]\n"
     ]
    }
   ],
   "source": [
    "pipeline_AUC_1.fit(X_shuffle,y_shuffle)\n",
    "print(len(pipeline_AUC_1.steps))\n",
    "print(pipeline_AUC_1.steps[3])\n",
    "print(pipeline_AUC_1.steps[3][1].feature_importances_)"
   ]
  },
  {
   "cell_type": "code",
   "execution_count": 29,
   "metadata": {},
   "outputs": [
    {
     "name": "stdout",
     "output_type": "stream",
     "text": [
      "4\n",
      "('xgbclassifier', XGBClassifier(base_score=0.5, booster='gbtree', colsample_bylevel=1,\n",
      "              colsample_bytree=1, gamma=0, learning_rate=0.5, max_delta_step=0,\n",
      "              max_depth=1, min_child_weight=6, missing=None, n_estimators=100,\n",
      "              n_jobs=1, nthread=1, objective='binary:logistic', random_state=0,\n",
      "              reg_alpha=0, reg_lambda=1, scale_pos_weight=1, seed=None,\n",
      "              silent=True, subsample=0.7500000000000001))\n",
      "[0.04116916 0.         0.3947877  0.03732025 0.04277027 0.\n",
      " 0.07575495 0.05263548 0.05936024 0.05887493 0.04134461 0.04751674\n",
      " 0.06747852 0.08098716 0.         0.         0.         0.\n",
      " 0.         0.         0.         0.         0.         0.\n",
      " 0.        ]\n"
     ]
    }
   ],
   "source": [
    "pipeline_AUC_1.fit(X,y)\n",
    "print(len(pipeline_AUC_1.steps))\n",
    "print(pipeline_AUC_1.steps[3])\n",
    "print(pipeline_AUC_1.steps[3][1].feature_importances_)"
   ]
  },
  {
   "cell_type": "code",
   "execution_count": 37,
   "metadata": {},
   "outputs": [],
   "source": [
    "#funciones para mostrar los atributos más relevantes\n",
    "def muestra_relevancias(nombres, relevancias):\n",
    "    '''Función para mostrar una gráfica con el grado de relevancia de cada atributo\n",
    "    \n",
    "    Recibe:\n",
    "       - nombres: nombres de todos los atributos\n",
    "       - relevancias: de cada atributo, calculadas mediante alguna técnica\n",
    "    '''\n",
    "    plt.figure(figsize=(len(nombres)/4,5))\n",
    "    serie = pd.Series(relevancias, index=nombres)\n",
    "    serie.plot(kind='bar')"
   ]
  },
  {
   "cell_type": "code",
   "execution_count": 53,
   "metadata": {},
   "outputs": [
    {
     "name": "stdout",
     "output_type": "stream",
     "text": [
      "20\n",
      "featureunion\n",
      "zerocount\n",
      "selectpercentile\n",
      "xgbclassifier\n",
      "[ True  True  True  True False  True False  True  True  True  True False\n",
      " False  True False  True False False  True False  True  True False  True\n",
      " False  True False  True  True  True  True False False  True False  True\n",
      " False False  True False  True  True False]\n",
      "[0.04116916 0.         0.3947877  0.03732025 0.04277027 0.\n",
      " 0.07575495 0.05263548 0.05936024 0.05887493 0.04134461 0.04751674\n",
      " 0.06747852 0.08098716 0.         0.         0.         0.\n",
      " 0.         0.         0.         0.         0.         0.\n",
      " 0.        ]\n"
     ]
    },
    {
     "ename": "AttributeError",
     "evalue": "Transformer stackingestimator (type StackingEstimator) does not provide get_feature_names.",
     "output_type": "error",
     "traceback": [
      "\u001b[1;31m---------------------------------------------------------------------------\u001b[0m",
      "\u001b[1;31mAttributeError\u001b[0m                            Traceback (most recent call last)",
      "\u001b[1;32m<ipython-input-53-ff4aaec32027>\u001b[0m in \u001b[0;36m<module>\u001b[1;34m\u001b[0m\n\u001b[0;32m      9\u001b[0m \u001b[0mprint\u001b[0m\u001b[1;33m(\u001b[0m\u001b[0mpipeline_AUC_1\u001b[0m\u001b[1;33m.\u001b[0m\u001b[0msteps\u001b[0m\u001b[1;33m[\u001b[0m\u001b[1;36m2\u001b[0m\u001b[1;33m]\u001b[0m\u001b[1;33m[\u001b[0m\u001b[1;36m1\u001b[0m\u001b[1;33m]\u001b[0m\u001b[1;33m.\u001b[0m\u001b[0mget_support\u001b[0m\u001b[1;33m(\u001b[0m\u001b[1;33m)\u001b[0m\u001b[1;33m)\u001b[0m\u001b[1;33m\u001b[0m\u001b[1;33m\u001b[0m\u001b[0m\n\u001b[0;32m     10\u001b[0m \u001b[0mprint\u001b[0m\u001b[1;33m(\u001b[0m\u001b[0mpipeline_AUC_1\u001b[0m\u001b[1;33m.\u001b[0m\u001b[0msteps\u001b[0m\u001b[1;33m[\u001b[0m\u001b[1;36m3\u001b[0m\u001b[1;33m]\u001b[0m\u001b[1;33m[\u001b[0m\u001b[1;36m1\u001b[0m\u001b[1;33m]\u001b[0m\u001b[1;33m.\u001b[0m\u001b[0mfeature_importances_\u001b[0m\u001b[1;33m)\u001b[0m\u001b[1;33m\u001b[0m\u001b[1;33m\u001b[0m\u001b[0m\n\u001b[1;32m---> 11\u001b[1;33m \u001b[0mprint\u001b[0m\u001b[1;33m(\u001b[0m\u001b[0mpipeline_AUC_1\u001b[0m\u001b[1;33m.\u001b[0m\u001b[0msteps\u001b[0m\u001b[1;33m[\u001b[0m\u001b[1;36m0\u001b[0m\u001b[1;33m]\u001b[0m\u001b[1;33m[\u001b[0m\u001b[1;36m1\u001b[0m\u001b[1;33m]\u001b[0m\u001b[1;33m.\u001b[0m\u001b[0mget_feature_names\u001b[0m\u001b[1;33m(\u001b[0m\u001b[1;33m)\u001b[0m\u001b[1;33m)\u001b[0m\u001b[1;33m\u001b[0m\u001b[1;33m\u001b[0m\u001b[0m\n\u001b[0m\u001b[0;32m     12\u001b[0m \u001b[1;31m#muestra_relevancias(X.columns.values, pipeline_AUC_1.steps[3][1].feature_importances_)\u001b[0m\u001b[1;33m\u001b[0m\u001b[1;33m\u001b[0m\u001b[1;33m\u001b[0m\u001b[0m\n",
      "\u001b[1;32m~\\Anaconda3\\lib\\site-packages\\sklearn\\pipeline.py\u001b[0m in \u001b[0;36mget_feature_names\u001b[1;34m(self)\u001b[0m\n\u001b[0;32m    864\u001b[0m                 raise AttributeError(\"Transformer %s (type %s) does not \"\n\u001b[0;32m    865\u001b[0m                                      \u001b[1;34m\"provide get_feature_names.\"\u001b[0m\u001b[1;33m\u001b[0m\u001b[1;33m\u001b[0m\u001b[0m\n\u001b[1;32m--> 866\u001b[1;33m                                      % (str(name), type(trans).__name__))\n\u001b[0m\u001b[0;32m    867\u001b[0m             feature_names.extend([name + \"__\" + f for f in\n\u001b[0;32m    868\u001b[0m                                   trans.get_feature_names()])\n",
      "\u001b[1;31mAttributeError\u001b[0m: Transformer stackingestimator (type StackingEstimator) does not provide get_feature_names."
     ]
    }
   ],
   "source": [
    "print(len(X.columns.values))\n",
    "print(pipeline_AUC_1.steps[0][0])\n",
    "print(pipeline_AUC_1.steps[1][0])\n",
    "print(pipeline_AUC_1.steps[2][0])\n",
    "print(pipeline_AUC_1.steps[3][0])\n",
    "\n",
    "type(pipeline_AUC_1.steps[3][1])\n",
    "type(pipeline_AUC_1)\n",
    "print(pipeline_AUC_1.steps[2][1].get_support())\n",
    "print(pipeline_AUC_1.steps[3][1].feature_importances_)\n",
    "print(pipeline_AUC_1.steps[0][1].get_feature_names())\n",
    "#muestra_relevancias(X.columns.values, pipeline_AUC_1.steps[3][1].feature_importances_)"
   ]
  },
  {
   "cell_type": "code",
   "execution_count": 52,
   "metadata": {},
   "outputs": [
    {
     "ename": "AttributeError",
     "evalue": "Transformer stackingestimator (type StackingEstimator) does not provide get_feature_names.",
     "output_type": "error",
     "traceback": [
      "\u001b[1;31m---------------------------------------------------------------------------\u001b[0m",
      "\u001b[1;31mAttributeError\u001b[0m                            Traceback (most recent call last)",
      "\u001b[1;32m<ipython-input-52-a8359a974eb7>\u001b[0m in \u001b[0;36m<module>\u001b[1;34m\u001b[0m\n\u001b[1;32m----> 1\u001b[1;33m \u001b[0mpipeline_AUC_1\u001b[0m\u001b[1;33m.\u001b[0m\u001b[0mnamed_steps\u001b[0m\u001b[1;33m[\u001b[0m\u001b[1;34m'featureunion'\u001b[0m\u001b[1;33m]\u001b[0m\u001b[1;33m.\u001b[0m\u001b[0mget_feature_names\u001b[0m\u001b[1;33m(\u001b[0m\u001b[1;33m)\u001b[0m\u001b[1;33m\u001b[0m\u001b[1;33m\u001b[0m\u001b[0m\n\u001b[0m",
      "\u001b[1;32m~\\Anaconda3\\lib\\site-packages\\sklearn\\pipeline.py\u001b[0m in \u001b[0;36mget_feature_names\u001b[1;34m(self)\u001b[0m\n\u001b[0;32m    864\u001b[0m                 raise AttributeError(\"Transformer %s (type %s) does not \"\n\u001b[0;32m    865\u001b[0m                                      \u001b[1;34m\"provide get_feature_names.\"\u001b[0m\u001b[1;33m\u001b[0m\u001b[1;33m\u001b[0m\u001b[0m\n\u001b[1;32m--> 866\u001b[1;33m                                      % (str(name), type(trans).__name__))\n\u001b[0m\u001b[0;32m    867\u001b[0m             feature_names.extend([name + \"__\" + f for f in\n\u001b[0;32m    868\u001b[0m                                   trans.get_feature_names()])\n",
      "\u001b[1;31mAttributeError\u001b[0m: Transformer stackingestimator (type StackingEstimator) does not provide get_feature_names."
     ]
    }
   ],
   "source": [
    "pipeline_AUC_1.named_steps['featureunion'].get_feature_names()"
   ]
  },
  {
   "cell_type": "code",
   "execution_count": 56,
   "metadata": {},
   "outputs": [
    {
     "name": "stdout",
     "output_type": "stream",
     "text": [
      "[0.06050201 0.02326961 0.04345842 0.06945209 0.         0.03573693\n",
      " 0.09757517 0.09097681 0.03885353 0.04928099 0.07448472 0.03790312\n",
      " 0.05836925 0.         0.         0.04280774 0.03167795 0.06284595\n",
      " 0.18280573 0.        ]\n"
     ]
    },
    {
     "data": {
      "image/png": "[encoded data removed]",
      "text/plain": [
       "<Figure size 360x360 with 1 Axes>"
      ]
     },
     "metadata": {
      "needs_background": "light"
     },
     "output_type": "display_data"
    }
   ],
   "source": [
    "clasificador = pipeline_AUC_1.steps[3][1]\n",
    "clasificador.fit(X,y)\n",
    "print(clasificador.feature_importances_)\n",
    "muestra_relevancias(X.columns.values, clasificador.feature_importances_)"
   ]
  },
  {
   "cell_type": "code",
   "execution_count": 66,
   "metadata": {},
   "outputs": [
    {
     "name": "stdout",
     "output_type": "stream",
     "text": [
      "[0.05244914 0.02197101 0.04416281 0.04292369 0.         0.10624243\n",
      " 0.13509281 0.06356078 0.02840551 0.04146154 0.05988816 0.04903889\n",
      " 0.06212695 0.         0.         0.04474293 0.04868496 0.1433312\n",
      " 0.05591711 0.        ]\n"
     ]
    },
    {
     "data": {
      "image/png": "[encoded data removed]",
      "text/plain": [
       "<Figure size 360x360 with 1 Axes>"
      ]
     },
     "metadata": {
      "needs_background": "light"
     },
     "output_type": "display_data"
    }
   ],
   "source": [
    "clasificador = pipeline_AUC_1.steps[3][1]\n",
    "datos_shuffle=datos_one_hot.iloc[np.random.permutation(len(datos_one_hot))]\n",
    "y_shuffle = datos_shuffle['class']\n",
    "X_shuffle = datos_shuffle.drop(['class'],axis=1)\n",
    "clasificador.fit(X_shuffle,y_shuffle)\n",
    "print(clasificador.feature_importances_)\n",
    "muestra_relevancias(X_shuffle.columns.values, clasificador.feature_importances_)"
   ]
  },
  {
   "cell_type": "code",
   "execution_count": 67,
   "metadata": {},
   "outputs": [
    {
     "name": "stdout",
     "output_type": "stream",
     "text": [
      "[0.05516619 0.         0.05466149 0.04273072 0.         0.04995935\n",
      " 0.15247199 0.07007987 0.0407745  0.04551952 0.05730923 0.04124652\n",
      " 0.06583061 0.         0.         0.04853354 0.04293137 0.14924431\n",
      " 0.08354082 0.        ]\n"
     ]
    },
    {
     "data": {
      "image/png": "[encoded data removed]",
      "text/plain": [
       "<Figure size 360x360 with 1 Axes>"
      ]
     },
     "metadata": {
      "needs_background": "light"
     },
     "output_type": "display_data"
    }
   ],
   "source": [
    "clasificador = pipeline_AUC_1.steps[3][1]\n",
    "clasificador.fit(X_mejor_shuffle,y_mejor_shuffle)\n",
    "print(clasificador.feature_importances_)\n",
    "muestra_relevancias(X_mejor_shuffle.columns.values, clasificador.feature_importances_)"
   ]
  },
  {
   "cell_type": "code",
   "execution_count": 82,
   "metadata": {},
   "outputs": [
    {
     "name": "stdout",
     "output_type": "stream",
     "text": [
      "{'Edad': 0.055166192, 'Sexo': 0.0, 'IMC': 0.054661494, 'HTA': 0.042730715, 'DM': 0.0, 'DLP': 0.049959354, 'APM': 0.15247199, 'APQ': 0.07007987, 'GOT': 0.040774498, 'GPT': 0.04551952, 'GGT': 0.057309225, 'Na': 0.04124652, 'BbT': 0.06583061, 'AcVHC': 0.0, 'AcVHBc': 0.0, 'DosisNA': 0.04853354, 'Aminas': 0.042931374, 'Ecografia_1': 0.14924431, 'Ecografia_2': 0.08354082, 'Ecografia_3': 0.0}\n"
     ]
    }
   ],
   "source": [
    "diccionario = {}\n",
    "for nombre, valor in zip(X_mejor_shuffle.columns.values,clasificador.feature_importances_):\n",
    "    diccionario[nombre]=valor\n",
    "print(diccionario)"
   ]
  },
  {
   "cell_type": "code",
   "execution_count": 87,
   "metadata": {},
   "outputs": [
    {
     "data": {
      "text/plain": [
       "[('APM', 0.15247199),\n",
       " ('Ecografia_1', 0.14924431),\n",
       " ('Ecografia_2', 0.08354082),\n",
       " ('APQ', 0.07007987),\n",
       " ('BbT', 0.06583061),\n",
       " ('GGT', 0.057309225),\n",
       " ('Edad', 0.055166192),\n",
       " ('IMC', 0.054661494),\n",
       " ('DLP', 0.049959354),\n",
       " ('DosisNA', 0.04853354),\n",
       " ('GPT', 0.04551952),\n",
       " ('Aminas', 0.042931374),\n",
       " ('HTA', 0.042730715),\n",
       " ('Na', 0.04124652),\n",
       " ('GOT', 0.040774498),\n",
       " ('Sexo', 0.0),\n",
       " ('DM', 0.0),\n",
       " ('AcVHC', 0.0),\n",
       " ('AcVHBc', 0.0),\n",
       " ('Ecografia_3', 0.0)]"
      ]
     },
     "execution_count": 87,
     "metadata": {},
     "output_type": "execute_result"
    }
   ],
   "source": [
    "lista_atrib = sorted(diccionario.items(),key=lambda x:x[1], reverse=True)\n",
    "lista_atrib"
   ]
  },
  {
   "cell_type": "code",
   "execution_count": 88,
   "metadata": {},
   "outputs": [
    {
     "data": {
      "text/plain": [
       "['APM',\n",
       " 'Ecografia_1',\n",
       " 'Ecografia_2',\n",
       " 'APQ',\n",
       " 'BbT',\n",
       " 'GGT',\n",
       " 'Edad',\n",
       " 'IMC',\n",
       " 'DLP',\n",
       " 'DosisNA',\n",
       " 'GPT',\n",
       " 'Aminas',\n",
       " 'HTA',\n",
       " 'Na',\n",
       " 'GOT',\n",
       " 'Sexo',\n",
       " 'DM',\n",
       " 'AcVHC',\n",
       " 'AcVHBc',\n",
       " 'Ecografia_3']"
      ]
     },
     "execution_count": 88,
     "metadata": {},
     "output_type": "execute_result"
    }
   ],
   "source": [
    "nombres_ord = [nombre for nombre,_ in lista_atrib]\n",
    "nombres_ord"
   ]
  },
  {
   "cell_type": "code",
   "execution_count": 70,
   "metadata": {},
   "outputs": [
    {
     "name": "stdout",
     "output_type": "stream",
     "text": [
      "Help on built-in function sorted in module builtins:\n",
      "\n",
      "sorted(iterable, /, *, key=None, reverse=False)\n",
      "    Return a new list containing all items from the iterable in ascending order.\n",
      "    \n",
      "    A custom key function can be supplied to customize the sort order, and the\n",
      "    reverse flag can be set to request the result in descending order.\n",
      "\n"
     ]
    }
   ],
   "source": [
    "help(sorted)"
   ]
  },
  {
   "cell_type": "code",
   "execution_count": null,
   "metadata": {},
   "outputs": [],
   "source": []
  }
 ],
 "metadata": {
  "kernelspec": {
   "display_name": "Python 3",
   "language": "python",
   "name": "python3"
  },
  "language_info": {
   "codemirror_mode": {
    "name": "ipython",
    "version": 3
   },
   "file_extension": ".py",
   "mimetype": "text/x-python",
   "name": "python",
   "nbconvert_exporter": "python",
   "pygments_lexer": "ipython3",
   "version": "3.8.8"
  }
 },
 "nbformat": 4,
 "nbformat_minor": 2
}
